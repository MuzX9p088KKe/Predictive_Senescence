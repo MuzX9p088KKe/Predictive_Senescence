{
 "cells": [
  {
   "cell_type": "code",
   "execution_count": 27,
   "source": [
    "import pandas as pd\r\n",
    "from pathlib import Path\r\n",
    "from sklearn.preprocessing import StandardScaler, MinMaxScaler, LabelEncoder\r\n",
    "from sklearn.decomposition import PCA\r\n",
    "from sklearn.cluster import KMeans\r\n",
    "import hvplot.pandas\r\n",
    "import psycopg2\r\n",
    "import config\r\n",
    "from config import db_pw"
   ],
   "outputs": [],
   "metadata": {}
  },
  {
   "cell_type": "code",
   "execution_count": 28,
   "source": [
    "#establishing the connection\r\n",
    "conn = psycopg2.connect(\r\n",
    "   database=\"Predictive_Senescence_DB\", user='postgres', password= db_pw, host='predictive-senescence-db.cbunnafql9ym.us-east-2.rds.amazonaws.com', port= '5432'\r\n",
    ")\r\n",
    "\r\n",
    "#Setting auto commit false\r\n",
    "conn.autocommit = True\r\n",
    "\r\n",
    "#Creating a cursor object using the cursor() method\r\n",
    "cursor = conn.cursor()\r\n",
    "\r\n",
    "#Retrieving data\r\n",
    "cursor.execute('''SELECT * from birds_data_raw''')\r\n",
    "\r\n",
    "#Fetching 1st row from the table\r\n",
    "df = pd.DataFrame(cursor.fetchall(), columns=[\"Collection_Num\", \"BirdID\", \"Sex\", \"AgeY\", \"AgeClass\", \"BirthFPID\", \"U_PlateID\", \"RTL\", \"Technician\", \"Terr\", \"FPID\", 'mum', 'dad', \"MAC\", 'PAC','BrF', 'BrM']);\r\n",
    "print(df)\r\n",
    "\r\n",
    "#Commit your changes in the database\r\n",
    "conn.commit()\r\n",
    "\r\n",
    "#Closing the connection\r\n",
    "conn.close()"
   ],
   "outputs": [
    {
     "output_type": "stream",
     "name": "stdout",
     "text": [
      "      Collection_Num  BirdID  Sex       AgeY AgeClass  BirthFPID U_PlateID  \\\n",
      "0                  1    5511    0   0.246575        J        103       9_3   \n",
      "1                  2    5559    1   3.597260        A        103       9_1   \n",
      "2                  3    5559    1   4.715068        A        103      9_28   \n",
      "3                  4    5559    1   0.657534       SA        103       9_2   \n",
      "4                  5    5527    1   0.328767      OFL        103       9_3   \n",
      "...              ...     ...  ...        ...      ...        ...       ...   \n",
      "2657            2658     221    1   6.958904        A          8       2_1   \n",
      "2658            2659     216    1   8.947945        A          8       8_8   \n",
      "2659            2660     176    1   6.772603        A          8      7_32   \n",
      "2660            2661     221    1   9.090411        A          8      1_12   \n",
      "2661            2662     176    1  13.873973        A          8       4_3   \n",
      "\n",
      "       RTL  Technician   Terr  FPID   mum   dad       MAC       PAC   BrF  \\\n",
      "0     1.06           1   10.0   104  4863  1762  3.920548  7.443836  4863   \n",
      "1     0.52           1   77.1   122  1716  1877  7.416438  6.235616  1716   \n",
      "2     1.07           1   77.1   125  1716  1877  7.416438  6.235616  1716   \n",
      "3     0.99           1  111.0   104  1716  1877  7.416438  6.235616  1716   \n",
      "4     1.02           1  131.0   104  4936  1710  3.452055  7.778082  1707   \n",
      "...    ...         ...    ...   ...   ...   ...       ...       ...   ...   \n",
      "2657  1.99           2   32.0    19     0     0  0.000000  0.000000     0   \n",
      "2658  1.18           1   37.0    22     0     0  0.000000  0.000000     0   \n",
      "2659  0.93           1   46.0    19     0     0  0.000000  0.000000     0   \n",
      "2660  0.90           2   32.0    22     0     0  0.000000  0.000000     0   \n",
      "2661  0.72           2   46.0    41     0     0  0.000000  0.000000     0   \n",
      "\n",
      "       BrM  \n",
      "0     1762  \n",
      "1     4892  \n",
      "2     4892  \n",
      "3     4892  \n",
      "4     1710  \n",
      "...    ...  \n",
      "2657     0  \n",
      "2658     0  \n",
      "2659     0  \n",
      "2660     0  \n",
      "2661     0  \n",
      "\n",
      "[2662 rows x 17 columns]\n"
     ]
    }
   ],
   "metadata": {}
  },
  {
   "cell_type": "code",
   "execution_count": 29,
   "source": [
    "from matplotlib import pyplot as plt\r\n",
    "# Plot boxplots of RTL by AgeClass\r\n",
    "df.boxplot(['AgeY'], by=['AgeClass'])\r\n",
    "#plt.savefig('AllClass.png')"
   ],
   "outputs": [
    {
     "output_type": "execute_result",
     "data": {
      "text/plain": [
       "<AxesSubplot:title={'center':'AgeY'}, xlabel='[AgeClass]'>"
      ]
     },
     "metadata": {},
     "execution_count": 29
    },
    {
     "output_type": "display_data",
     "data": {
      "image/png": "[encoded data removed]",
      "text/plain": [
       "<Figure size 432x288 with 1 Axes>"
      ]
     },
     "metadata": {
      "needs_background": "light"
     }
    }
   ],
   "metadata": {}
  },
  {
   "cell_type": "code",
   "execution_count": 30,
   "source": [
    "df['AgeClass'] = df['AgeClass'].apply(lambda x: x if x in ('A') else 'Y')"
   ],
   "outputs": [],
   "metadata": {}
  },
  {
   "cell_type": "code",
   "execution_count": 31,
   "source": [
    "y = df['AgeClass']\r\n",
    "y = LabelEncoder().fit_transform(y)\r\n",
    "#y = y.dropna()\r\n",
    "\r\n",
    "#y.head()"
   ],
   "outputs": [],
   "metadata": {}
  },
  {
   "cell_type": "code",
   "execution_count": 32,
   "source": [
    "from matplotlib import pyplot as plt\r\n",
    "# Plot boxplots of RTL by AgeClass\r\n",
    "df.boxplot(['AgeY'], by=['AgeClass'])\r\n",
    "#plt.savefig('TwoClass.png')"
   ],
   "outputs": [
    {
     "output_type": "execute_result",
     "data": {
      "text/plain": [
       "<AxesSubplot:title={'center':'AgeY'}, xlabel='[AgeClass]'>"
      ]
     },
     "metadata": {},
     "execution_count": 32
    },
    {
     "output_type": "display_data",
     "data": {
      "image/png": "[encoded data removed]",
      "text/plain": [
       "<Figure size 432x288 with 1 Axes>"
      ]
     },
     "metadata": {
      "needs_background": "light"
     }
    }
   ],
   "metadata": {}
  },
  {
   "cell_type": "code",
   "execution_count": 33,
   "source": [
    "%matplotlib inline\r\n",
    "import matplotlib.pyplot as plt"
   ],
   "outputs": [],
   "metadata": {}
  },
  {
   "cell_type": "code",
   "execution_count": 34,
   "source": [
    "\r\n",
    "X= df[['RTL']]"
   ],
   "outputs": [],
   "metadata": {}
  },
  {
   "cell_type": "code",
   "execution_count": 35,
   "source": [
    "print(\"Shape: \", X.shape, y.shape)"
   ],
   "outputs": [
    {
     "output_type": "stream",
     "name": "stdout",
     "text": [
      "Shape:  (2662, 1) (2662,)\n"
     ]
    }
   ],
   "metadata": {}
  },
  {
   "cell_type": "code",
   "execution_count": 36,
   "source": [
    "from sklearn.model_selection import train_test_split\r\n",
    "\r\n",
    "X_train, X_test, y_train, y_test = train_test_split(X, y, random_state=1, stratify=y)\r\n",
    "# Create a StandardScaler instance\r\n",
    "scaler = StandardScaler()\r\n",
    "\r\n",
    "# Fit the StandardScaler\r\n",
    "X_scaler = scaler.fit(X_train)\r\n",
    "\r\n",
    "# Scale the data\r\n",
    "X_train_scaled = X_scaler.transform(X_train)\r\n",
    "X_test_scaled = X_scaler.transform(X_test)"
   ],
   "outputs": [],
   "metadata": {}
  },
  {
   "cell_type": "code",
   "execution_count": 37,
   "source": [
    "from sklearn.linear_model import LogisticRegression\r\n",
    "classifier = LogisticRegression(solver= 'newton-cg',class_weight = 'balanced',\r\n",
    "                                max_iter=200,\r\n",
    "                                random_state=1)\r\n",
    "classifier"
   ],
   "outputs": [
    {
     "output_type": "execute_result",
     "data": {
      "text/plain": [
       "LogisticRegression(class_weight='balanced', max_iter=200, random_state=1,\n",
       "                   solver='newton-cg')"
      ]
     },
     "metadata": {},
     "execution_count": 37
    }
   ],
   "metadata": {}
  },
  {
   "cell_type": "code",
   "execution_count": 38,
   "source": [
    "classifier.fit(X_train_scaled, y_train)"
   ],
   "outputs": [
    {
     "output_type": "execute_result",
     "data": {
      "text/plain": [
       "LogisticRegression(class_weight='balanced', max_iter=200, random_state=1,\n",
       "                   solver='newton-cg')"
      ]
     },
     "metadata": {},
     "execution_count": 38
    }
   ],
   "metadata": {}
  },
  {
   "cell_type": "code",
   "execution_count": 39,
   "source": [
    "y_pred=classifier.predict(X_test_scaled)\r\n",
    "results= pd.DataFrame({\"prediction\": y_pred, \"Actual\": y_test}).reset_index(drop=True)"
   ],
   "outputs": [],
   "metadata": {}
  },
  {
   "cell_type": "code",
   "execution_count": 40,
   "source": [
    "print(f\"Training Data Score: {classifier.score(X_train_scaled, y_train)}\")\r\n",
    "print(f\"Testing Data Score: {classifier.score(X_test_scaled, y_test)}\")"
   ],
   "outputs": [
    {
     "output_type": "stream",
     "name": "stdout",
     "text": [
      "Training Data Score: 0.5385771543086172\n",
      "Testing Data Score: 0.5780780780780781\n"
     ]
    }
   ],
   "metadata": {}
  },
  {
   "cell_type": "code",
   "execution_count": 41,
   "source": [
    "predictions = classifier.predict(X_test_scaled)\r\n",
    "pd.DataFrame({\"Prediction\": predictions, \"Actual\": y_test})\r\n"
   ],
   "outputs": [
    {
     "output_type": "execute_result",
     "data": {
      "text/html": [
       "<div>\n",
       "<style scoped>\n",
       "    .dataframe tbody tr th:only-of-type {\n",
       "        vertical-align: middle;\n",
       "    }\n",
       "\n",
       "    .dataframe tbody tr th {\n",
       "        vertical-align: top;\n",
       "    }\n",
       "\n",
       "    .dataframe thead th {\n",
       "        text-align: right;\n",
       "    }\n",
       "</style>\n",
       "<table border=\"1\" class=\"dataframe\">\n",
       "  <thead>\n",
       "    <tr style=\"text-align: right;\">\n",
       "      <th></th>\n",
       "      <th>Prediction</th>\n",
       "      <th>Actual</th>\n",
       "    </tr>\n",
       "  </thead>\n",
       "  <tbody>\n",
       "    <tr>\n",
       "      <th>0</th>\n",
       "      <td>1</td>\n",
       "      <td>0</td>\n",
       "    </tr>\n",
       "    <tr>\n",
       "      <th>1</th>\n",
       "      <td>1</td>\n",
       "      <td>1</td>\n",
       "    </tr>\n",
       "    <tr>\n",
       "      <th>2</th>\n",
       "      <td>1</td>\n",
       "      <td>1</td>\n",
       "    </tr>\n",
       "    <tr>\n",
       "      <th>3</th>\n",
       "      <td>1</td>\n",
       "      <td>1</td>\n",
       "    </tr>\n",
       "    <tr>\n",
       "      <th>4</th>\n",
       "      <td>0</td>\n",
       "      <td>1</td>\n",
       "    </tr>\n",
       "    <tr>\n",
       "      <th>...</th>\n",
       "      <td>...</td>\n",
       "      <td>...</td>\n",
       "    </tr>\n",
       "    <tr>\n",
       "      <th>661</th>\n",
       "      <td>0</td>\n",
       "      <td>0</td>\n",
       "    </tr>\n",
       "    <tr>\n",
       "      <th>662</th>\n",
       "      <td>1</td>\n",
       "      <td>0</td>\n",
       "    </tr>\n",
       "    <tr>\n",
       "      <th>663</th>\n",
       "      <td>1</td>\n",
       "      <td>1</td>\n",
       "    </tr>\n",
       "    <tr>\n",
       "      <th>664</th>\n",
       "      <td>0</td>\n",
       "      <td>0</td>\n",
       "    </tr>\n",
       "    <tr>\n",
       "      <th>665</th>\n",
       "      <td>0</td>\n",
       "      <td>0</td>\n",
       "    </tr>\n",
       "  </tbody>\n",
       "</table>\n",
       "<p>666 rows × 2 columns</p>\n",
       "</div>"
      ],
      "text/plain": [
       "     Prediction  Actual\n",
       "0             1       0\n",
       "1             1       1\n",
       "2             1       1\n",
       "3             1       1\n",
       "4             0       1\n",
       "..          ...     ...\n",
       "661           0       0\n",
       "662           1       0\n",
       "663           1       1\n",
       "664           0       0\n",
       "665           0       0\n",
       "\n",
       "[666 rows x 2 columns]"
      ]
     },
     "metadata": {},
     "execution_count": 41
    }
   ],
   "metadata": {}
  },
  {
   "cell_type": "markdown",
   "source": [
    "### Cross validation and Confusion matrix"
   ],
   "metadata": {}
  },
  {
   "cell_type": "code",
   "execution_count": 42,
   "source": [
    "import pandas as pd\r\n",
    "from pathlib import Path\r\n",
    "from sklearn.preprocessing import StandardScaler, MinMaxScaler, LabelEncoder\r\n",
    "from sklearn.decomposition import PCA\r\n",
    "from sklearn.cluster import KMeans\r\n",
    "import hvplot.pandas\r\n",
    "import psycopg2\r\n",
    "import config\r\n",
    "from config import db_pw\r\n",
    "import seaborn as sns\r\n",
    "import pandas as pd\r\n",
    "import numpy as np \r\n",
    "from sklearn.preprocessing import LabelEncoder\r\n",
    "from sklearn.model_selection import train_test_split\r\n",
    "from sklearn import model_selection\r\n",
    "from sklearn.linear_model import LogisticRegression\r\n",
    "from sklearn.model_selection import KFold\r\n",
    "from sklearn.model_selection import cross_val_score\r\n",
    "from sklearn.linear_model import LogisticRegression\r\n",
    "from sklearn.metrics import confusion_matrix\r\n",
    "from sklearn.metrics import classification_report"
   ],
   "outputs": [],
   "metadata": {}
  },
  {
   "cell_type": "code",
   "execution_count": 43,
   "source": [
    "# 5 folds selected\r\n",
    "# https://python.plainenglish.io/using-k-fold-cross-validation-to-evaluate-the-performance-of-logistic-regression-4439215f24c4\r\n",
    "kfold = KFold(n_splits=5, random_state=0, shuffle=True)\r\n",
    "model = LogisticRegression(solver='liblinear')\r\n",
    "results = cross_val_score(model, X, y, cv=kfold)\r\n",
    "# Output the accuracy. Calculate the mean and std across all folds. \r\n",
    "print(\"Accuracy: %.3f%% (%.3f%%)\" % (results.mean()*100.0, results.std()*100.0))"
   ],
   "outputs": [
    {
     "output_type": "stream",
     "name": "stdout",
     "text": [
      "Accuracy: 54.621% (1.906%)\n"
     ]
    }
   ],
   "metadata": {}
  },
  {
   "cell_type": "code",
   "execution_count": 44,
   "source": [
    "# Construct a confusion matrix\r\n",
    "test_size = 0.33\r\n",
    "seed = 0\r\n",
    "X_train, X_test, y_train, y_test = train_test_split(X, y, test_size=test_size,\r\n",
    "random_state=seed)\r\n",
    "model = LogisticRegression(solver='liblinear')\r\n",
    "model.fit(X_train, y_train)\r\n",
    "predicted = model.predict(X_test)\r\n",
    "matrix = confusion_matrix(y_test, predicted)\r\n",
    "print(matrix)"
   ],
   "outputs": [
    {
     "output_type": "stream",
     "name": "stdout",
     "text": [
      "[[330 128]\n",
      " [267 154]]\n"
     ]
    }
   ],
   "metadata": {}
  },
  {
   "cell_type": "code",
   "execution_count": 45,
   "source": [
    "from sklearn.metrics import confusion_matrix, classification_report\r\n",
    "\r\n",
    "y_true = y_test\r\n",
    "y_pred = model.predict(X_test)\r\n",
    "cm=confusion_matrix(y_true, y_pred)"
   ],
   "outputs": [],
   "metadata": {}
  },
  {
   "cell_type": "code",
   "execution_count": 46,
   "source": [
    "tn, fp, fn, tp = confusion_matrix(y_true, y_pred).ravel()\r\n",
    "accuracy = (tp + tn) / (tp + fp + tn + fn)\r\n",
    "print(f\"Accuracy: {accuracy}\")"
   ],
   "outputs": [
    {
     "output_type": "stream",
     "name": "stdout",
     "text": [
      "Accuracy: 0.5506257110352674\n"
     ]
    }
   ],
   "metadata": {}
  },
  {
   "cell_type": "code",
   "execution_count": 47,
   "source": [
    "print(classification_report(y_true, y_pred))"
   ],
   "outputs": [
    {
     "output_type": "stream",
     "name": "stdout",
     "text": [
      "              precision    recall  f1-score   support\n",
      "\n",
      "           0       0.55      0.72      0.63       458\n",
      "           1       0.55      0.37      0.44       421\n",
      "\n",
      "    accuracy                           0.55       879\n",
      "   macro avg       0.55      0.54      0.53       879\n",
      "weighted avg       0.55      0.55      0.54       879\n",
      "\n"
     ]
    }
   ],
   "metadata": {}
  },
  {
   "cell_type": "code",
   "execution_count": 48,
   "source": [
    "# Create a DataFrame from the confusion matrix.\r\n",
    "cm_df = pd.DataFrame(\r\n",
    "    cm, index=[\"Actual 0\", \"Actual 1\"], columns=[\"Predicted 0\", \"Predicted 1\"])\r\n",
    "\r\n",
    "cm_df"
   ],
   "outputs": [
    {
     "output_type": "execute_result",
     "data": {
      "text/html": [
       "<div>\n",
       "<style scoped>\n",
       "    .dataframe tbody tr th:only-of-type {\n",
       "        vertical-align: middle;\n",
       "    }\n",
       "\n",
       "    .dataframe tbody tr th {\n",
       "        vertical-align: top;\n",
       "    }\n",
       "\n",
       "    .dataframe thead th {\n",
       "        text-align: right;\n",
       "    }\n",
       "</style>\n",
       "<table border=\"1\" class=\"dataframe\">\n",
       "  <thead>\n",
       "    <tr style=\"text-align: right;\">\n",
       "      <th></th>\n",
       "      <th>Predicted 0</th>\n",
       "      <th>Predicted 1</th>\n",
       "    </tr>\n",
       "  </thead>\n",
       "  <tbody>\n",
       "    <tr>\n",
       "      <th>Actual 0</th>\n",
       "      <td>330</td>\n",
       "      <td>128</td>\n",
       "    </tr>\n",
       "    <tr>\n",
       "      <th>Actual 1</th>\n",
       "      <td>267</td>\n",
       "      <td>154</td>\n",
       "    </tr>\n",
       "  </tbody>\n",
       "</table>\n",
       "</div>"
      ],
      "text/plain": [
       "          Predicted 0  Predicted 1\n",
       "Actual 0          330          128\n",
       "Actual 1          267          154"
      ]
     },
     "metadata": {},
     "execution_count": 48
    }
   ],
   "metadata": {}
  },
  {
   "cell_type": "code",
   "execution_count": 49,
   "source": [
    "# Calculate the precision of the model based on the confusion matrix\r\n",
    "precision = tp / (tp + fp)\r\n",
    "precision"
   ],
   "outputs": [
    {
     "output_type": "execute_result",
     "data": {
      "text/plain": [
       "0.5460992907801419"
      ]
     },
     "metadata": {},
     "execution_count": 49
    }
   ],
   "metadata": {}
  },
  {
   "cell_type": "code",
   "execution_count": 50,
   "source": [
    "# Calculate the sensitivity of the model based on the confusion matrix\r\n",
    "sensitivity = tp / (tp + fn)\r\n",
    "sensitivity"
   ],
   "outputs": [
    {
     "output_type": "execute_result",
     "data": {
      "text/plain": [
       "0.3657957244655582"
      ]
     },
     "metadata": {},
     "execution_count": 50
    }
   ],
   "metadata": {}
  },
  {
   "cell_type": "markdown",
   "source": [
    "128 birds were predicted to be adult when they were actually young. 267 birds were predicted to be young when they were actually adults. Telomere length alone is slightly better than flipping a coin at predicting Age class. precision is .55 for true classification of young sensitivity is .37 for true classification of adult f1 is .63 which is an indication that the model is miss classifiying a llot of individuals"
   ],
   "metadata": {}
  },
  {
   "cell_type": "code",
   "execution_count": 51,
   "source": [
    "#transform confusion matrix into array\r\n",
    "#the matrix is stored in a vaiable called confmtrx\r\n",
    "confmtrx = np.array(matrix)\r\n",
    "#Create DataFrame from confmtrx array \r\n",
    "#rows for test: Churn, No_Churn designation as index \r\n",
    "#columns for preds: Pred_Churn, Pred_NoChurn as column\r\n",
    "pd.DataFrame(confmtrx, index=['Young','Adult'],\r\n",
    "columns=['Predicted_Young', 'Predicted_Adult', ])"
   ],
   "outputs": [
    {
     "output_type": "execute_result",
     "data": {
      "text/html": [
       "<div>\n",
       "<style scoped>\n",
       "    .dataframe tbody tr th:only-of-type {\n",
       "        vertical-align: middle;\n",
       "    }\n",
       "\n",
       "    .dataframe tbody tr th {\n",
       "        vertical-align: top;\n",
       "    }\n",
       "\n",
       "    .dataframe thead th {\n",
       "        text-align: right;\n",
       "    }\n",
       "</style>\n",
       "<table border=\"1\" class=\"dataframe\">\n",
       "  <thead>\n",
       "    <tr style=\"text-align: right;\">\n",
       "      <th></th>\n",
       "      <th>Predicted_Young</th>\n",
       "      <th>Predicted_Adult</th>\n",
       "    </tr>\n",
       "  </thead>\n",
       "  <tbody>\n",
       "    <tr>\n",
       "      <th>Young</th>\n",
       "      <td>330</td>\n",
       "      <td>128</td>\n",
       "    </tr>\n",
       "    <tr>\n",
       "      <th>Adult</th>\n",
       "      <td>267</td>\n",
       "      <td>154</td>\n",
       "    </tr>\n",
       "  </tbody>\n",
       "</table>\n",
       "</div>"
      ],
      "text/plain": [
       "       Predicted_Young  Predicted_Adult\n",
       "Young              330              128\n",
       "Adult              267              154"
      ]
     },
     "metadata": {},
     "execution_count": 51
    }
   ],
   "metadata": {}
  },
  {
   "cell_type": "code",
   "execution_count": 52,
   "source": [
    "# best model selection\r\n",
    "kfold = model_selection.KFold(n_splits=5, random_state=5, shuffle=True)\r\n",
    "model = LogisticRegression()\r\n",
    "results = model_selection.cross_val_score(model, X, y, cv=kfold)\r\n",
    "print(\"Accuracy: Final mean:%.3f%%, Final standard deviation:(%.3f%%)\" % (results.mean()*100.0, results.std()*100.0))\r\n",
    "print('Accuracies from each of the 5 folds using kfold:',results)\r\n",
    "print(\"Variance of kfold accuracies:\",results.var())"
   ],
   "outputs": [
    {
     "output_type": "stream",
     "name": "stdout",
     "text": [
      "Accuracy: Final mean:54.807%, Final standard deviation:(1.903%)\n",
      "Accuracies from each of the 5 folds using kfold: [0.57786116 0.54409006 0.52443609 0.53383459 0.56015038]\n",
      "Variance of kfold accuracies: 0.00036209948634715916\n"
     ]
    }
   ],
   "metadata": {}
  },
  {
   "cell_type": "markdown",
   "source": [
    "Accuracy is roughly the same for all models, cross validation, multiple test train splits, and multiple solvers. "
   ],
   "metadata": {}
  }
 ],
 "metadata": {
  "kernelspec": {
   "name": "python3",
   "display_name": "Python 3.7.11 64-bit ('MLenv': conda)"
  },
  "language_info": {
   "codemirror_mode": {
    "name": "ipython",
    "version": 3
   },
   "file_extension": ".py",
   "mimetype": "text/x-python",
   "name": "python",
   "nbconvert_exporter": "python",
   "pygments_lexer": "ipython3",
   "version": "3.7.11"
  },
  "interpreter": {
   "hash": "c4b8c8aa916d9be87a62bf4c7fce55eda537dd701abee0630d356eecbd6a1d9f"
  }
 },
 "nbformat": 4,
 "nbformat_minor": 4
}