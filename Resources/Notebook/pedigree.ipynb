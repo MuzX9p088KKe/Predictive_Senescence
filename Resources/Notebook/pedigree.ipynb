# Data exploration to determine if the pedigree ( Mum / Dad ) affect the RTL 
