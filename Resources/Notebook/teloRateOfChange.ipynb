{
 "cells": [
  {
   "cell_type": "code",
   "execution_count": null,
   "source": [
    "import pandas as pd\r\n",
    "import matplotlib.pyplot as plt\r\n",
    "from sklearn.linear_model import LinearRegression\r\n",
    "from sklearn.model_selection import train_test_split\r\n",
    "from sklearn import metrics\r\n",
    "import numpy as np\r\n",
    "from config import db_pw;\r\n",
    "import psycopg2;"
   ],
   "outputs": [],
   "metadata": {}
  },
  {
   "cell_type": "code",
   "execution_count": null,
   "source": [
    "#establishing the connection\r\n",
    "conn = psycopg2.connect(\r\n",
    "   database=\"Predictive_Senescence_DB\", user='postgres', password= db_pw, host='predictive-senescence-db.cbunnafql9ym.us-east-2.rds.amazonaws.com', port= '5432'\r\n",
    ")\r\n",
    "\r\n",
    "#Setting auto commit false\r\n",
    "conn.autocommit = True\r\n",
    "\r\n",
    "#Creating a cursor object using the cursor() method\r\n",
    "cursor = conn.cursor()\r\n",
    "\r\n",
    "#Retrieving data\r\n",
    "cursor.execute('''SELECT * from birds_data_raw''')\r\n",
    "\r\n",
    "#Fetching 1st row from the table\r\n",
    "bird_df = pd.DataFrame(cursor.fetchall(), columns=[\"Collection_Num\", \"Bird_ID\", \"Sex\", \"Agey\", \"AgeClass\", \"BirthFPID\", \"U_PlateID\", \"RTL\", \"Technician\", \"Terr\", \"FPID\", \"Mum\", \"Dad\", \"Mac\", \"Pac\", \"BRF\", \"BRM\"]);\r\n",
    "print(bird_df)\r\n",
    "\r\n",
    "#Commit your changes in the database\r\n",
    "conn.commit()\r\n",
    "\r\n",
    "#Closing the connection\r\n",
    "conn.close()"
   ],
   "outputs": [],
   "metadata": {}
  },
  {
   "cell_type": "code",
   "execution_count": null,
   "source": [
    "max(bird_df[\"Agey\"])"
   ],
   "outputs": [],
   "metadata": {}
  },
  {
   "cell_type": "code",
   "execution_count": null,
   "source": [
    "#Make a list to hold unique ID's found in bird_df\r\n",
    "passover_list = [0,1]\r\n",
    "\r\n",
    "#Make a DF to hold the overall change in Age and RTL for each bird\r\n",
    "changeRate_df = pd.DataFrame(columns=[\"Bird_ID\", \"Average_Age\", \"RTL_Change\", \"Rate_Of_Change\"])\r\n",
    "\r\n",
    "#Iterate once for each row in the bird_df\r\n",
    "for i in range(len(bird_df[\"Bird_ID\"])):\r\n",
    "    #If the Bird_ID in this row is not in our passover list (already processed), continue\r\n",
    "    if(bird_df.loc[i,\"Bird_ID\"] not in passover_list):\r\n",
    "\r\n",
    "        #Initialize indexer for next row(s) and make a DF to hold all duplicate ID's, their ages and RTL values\r\n",
    "        k = i+1\r\n",
    "        holder_df = pd.DataFrame({\"ID\": [bird_df.loc[i,\"Bird_ID\"]], \"Age\": [bird_df.loc[i, \"Agey\"]], \"RTL\": [bird_df.loc[i,\"RTL\"]]})\r\n",
    "\r\n",
    "        #Loop through all rows with matching ID's\r\n",
    "        while(bird_df.loc[k,\"Bird_ID\"] == bird_df.loc[i,\"Bird_ID\"]):\r\n",
    "            #Place matching rows data into holder_DF and incriment indexer\r\n",
    "            holder_df = holder_df.append({\"ID\": bird_df.loc[k,\"Bird_ID\"], \"Age\": bird_df.loc[k, \"Agey\"], \"RTL\": bird_df.loc[k,\"RTL\"]}, ignore_index=True)\r\n",
    "            k = k+1\r\n",
    "\r\n",
    "        #We are only interested in birds with multiple collections -- this is to identify rate of change in telomere\r\n",
    "        if(len(holder_df[\"ID\"]) > 1):\r\n",
    "            #Initialize variables for changeRate_df populating\r\n",
    "            max_age = 0\r\n",
    "            min_age = 0\r\n",
    "            final_rtl = 0\r\n",
    "            first_rtl = 0\r\n",
    "            total_ratio = 0\r\n",
    "            count = len(holder_df[\"ID\"])\r\n",
    "            for row in holder_df.iterrows():\r\n",
    "                id = row[1].ID\r\n",
    "                if(row[1].Age == max(holder_df[\"Age\"])):\r\n",
    "                    max_age = row[1].Age\r\n",
    "                    final_rtl = row[1].RTL\r\n",
    "                elif(row[1].Age == min(holder_df[\"Age\"])):\r\n",
    "                    min_age = row[1].Age\r\n",
    "                    first_rtl = row[1].RTL\r\n",
    "                total_ratio = total_ratio + (row[1].Age / row[1].RTL)\r\n",
    "            Average_Age = holder_df[\"Age\"].mean()\r\n",
    "            rtl_change = final_rtl - first_rtl\r\n",
    "            change_rate = total_ratio/count\r\n",
    "            total_ratio = 0\r\n",
    "            changeRate_df = changeRate_df.append({\"Bird_ID\": id, \"Average_Age\": Average_Age, \"RTL_Change\": rtl_change, \"Rate_Of_Change\": change_rate}, ignore_index=True)\r\n",
    "        passover_list.append(bird_df.loc[i,\"Bird_ID\"])\r\n",
    "\r\n",
    "changeRate_df.head(10)"
   ],
   "outputs": [],
   "metadata": {}
  },
  {
   "cell_type": "code",
   "execution_count": null,
   "source": [
    "# Plot RTL_Change vs Average_Age\r\n",
    "changeRate_df.plot.scatter(x='Rate_Of_Change', y='Average_Age', color='Red')"
   ],
   "outputs": [],
   "metadata": {}
  },
  {
   "cell_type": "code",
   "execution_count": null,
   "source": [
    "# Attempt Quadratic transformation on Rate_Of_Change\r\n",
    "quad_df = changeRate_df.copy()\r\n",
    "quad_df[\"Rate_Of_Change\"] = changeRate_df[\"Rate_Of_Change\"] * changeRate_df[\"Rate_Of_Change\"]\r\n",
    "quad_df.plot.scatter(x='Rate_Of_Change', y='Average_Age', color='Blue')"
   ],
   "outputs": [],
   "metadata": {}
  },
  {
   "cell_type": "code",
   "execution_count": null,
   "source": [
    "quad_df[\"Rate_Of_Change\"].corr(quad_df[\"Average_Age\"])"
   ],
   "outputs": [],
   "metadata": {}
  },
  {
   "cell_type": "code",
   "execution_count": null,
   "source": [
    "# Attempt Log Transformation on Rate_Of_Change\r\n",
    "log_df = changeRate_df.copy()\r\n",
    "log_df[\"Average_Age\"] = np.sqrt((log_df[\"Average_Age\"]))\r\n",
    "log_df.plot.scatter(x='Rate_Of_Change', y='Average_Age', color='Orange')"
   ],
   "outputs": [],
   "metadata": {}
  },
  {
   "cell_type": "code",
   "execution_count": null,
   "source": [
    "log_df[\"Rate_Of_Change\"].corr(log_df[\"Average_Age\"])"
   ],
   "outputs": [],
   "metadata": {}
  },
  {
   "cell_type": "code",
   "execution_count": null,
   "source": [
    "# Attempt Log Transformation on Average_Age\r\n",
    "log_df = changeRate_df.copy()\r\n",
    "log_df[\"Average_Age\"] = np.log(changeRate_df[\"Average_Age\"])\r\n",
    "log_df.plot.scatter(x='Rate_Of_Change', y='Average_Age', color='Cyan')"
   ],
   "outputs": [],
   "metadata": {}
  },
  {
   "cell_type": "code",
   "execution_count": null,
   "source": [
    "# Attempt Log Transformation on Average_Age and Rate_Of_Change\r\n",
    "log_age_df = changeRate_df.copy()\r\n",
    "log_age_df[\"Average_Age\"] = np.log(changeRate_df[\"Average_Age\"])\r\n",
    "log_age_df[\"Rate_Of_Change\"] = np.log(changeRate_df[\"Rate_Of_Change\"])\r\n",
    "log_age_df.plot.scatter(x='Rate_Of_Change', y='Average_Age', color='Purple')"
   ],
   "outputs": [],
   "metadata": {}
  },
  {
   "cell_type": "code",
   "execution_count": null,
   "source": [
    "log_age_df[\"Rate_Of_Change\"].corr(log_age_df[\"Average_Age\"])"
   ],
   "outputs": [],
   "metadata": {}
  },
  {
   "cell_type": "code",
   "execution_count": null,
   "source": [
    "# Start processing on Rate of Change (Age/RTL)\r\n",
    "plot_df = changeRate_df.copy()\r\n",
    "plot_df"
   ],
   "outputs": [],
   "metadata": {}
  },
  {
   "cell_type": "code",
   "execution_count": null,
   "source": [
    "# Identify Rate of change to age correlation\r\n",
    "changeRate_df[\"Rate_Of_Change\"].corr(changeRate_df[\"Average_Age\"])"
   ],
   "outputs": [],
   "metadata": {}
  },
  {
   "cell_type": "code",
   "execution_count": null,
   "source": [
    "# Observe Stats of Change Rate\r\n",
    "changeRate_df.boxplot(\"Rate_Of_Change\")"
   ],
   "outputs": [],
   "metadata": {}
  },
  {
   "cell_type": "code",
   "execution_count": null,
   "source": [
    "# Remove Significant Outliers\r\n",
    "changeRate_df = changeRate_df.loc[changeRate_df[\"Rate_Of_Change\"] > -5]\r\n",
    "changeRate_df = changeRate_df.loc[changeRate_df[\"Rate_Of_Change\"] < 8.5]"
   ],
   "outputs": [],
   "metadata": {}
  },
  {
   "cell_type": "code",
   "execution_count": null,
   "source": [
    "# Plot Age vs Rate of Change\r\n",
    "changeRate_df.plot.scatter(x='Rate_Of_Change', y='Average_Age', color='Black')"
   ],
   "outputs": [],
   "metadata": {}
  },
  {
   "cell_type": "code",
   "execution_count": null,
   "source": [
    "# Initialize variables and Model\r\n",
    "X = changeRate_df[\"Rate_Of_Change\"].values.reshape(-1,1)\r\n",
    "y = changeRate_df[\"Average_Age\"]\r\n",
    "model = LinearRegression()"
   ],
   "outputs": [],
   "metadata": {}
  },
  {
   "cell_type": "code",
   "execution_count": null,
   "source": [
    "plt.hist(X)\r\n",
    "plt.show()"
   ],
   "outputs": [],
   "metadata": {}
  },
  {
   "cell_type": "code",
   "execution_count": null,
   "source": [
    "plt.hist(y)\r\n",
    "plt.show()"
   ],
   "outputs": [],
   "metadata": {}
  },
  {
   "cell_type": "code",
   "execution_count": null,
   "source": [
    "#Run a BoxCox transformation on the data -- see if regression is improved\r\n",
    "from scipy import stats\r\n",
    "fitted_data, fitted_lambda = stats.boxcox(changeRate_df[\"Rate_Of_Change\"].values)\r\n",
    "plt.hist(fitted_data)\r\n",
    "plt.show()"
   ],
   "outputs": [],
   "metadata": {}
  },
  {
   "cell_type": "code",
   "execution_count": null,
   "source": [
    "from scipy import stats\r\n",
    "fitted_y, fitted_lambda = stats.boxcox(changeRate_df[\"Average_Age\"])\r\n",
    "plt.hist(fitted_y)\r\n",
    "plt.show()"
   ],
   "outputs": [],
   "metadata": {}
  },
  {
   "cell_type": "code",
   "execution_count": null,
   "source": [
    "X = fitted_data.reshape(-1,1)\r\n",
    "y = fitted_y"
   ],
   "outputs": [],
   "metadata": {}
  },
  {
   "cell_type": "code",
   "execution_count": null,
   "source": [
    "# Split data into training and testing\r\n",
    "X_train, X_test, y_train, y_test = train_test_split(X, \r\n",
    "                                                    y, \r\n",
    "                                                    random_state=1)\r\n",
    "X_train.shape"
   ],
   "outputs": [],
   "metadata": {}
  },
  {
   "cell_type": "code",
   "execution_count": null,
   "source": [
    "# Fit Model\r\n",
    "model.fit(X_train, y_train)"
   ],
   "outputs": [],
   "metadata": {}
  },
  {
   "cell_type": "code",
   "execution_count": null,
   "source": [
    "# Make predictions and print the shape\r\n",
    "y_pred = model.predict(X_test)\r\n",
    "print(y_pred.shape)"
   ],
   "outputs": [],
   "metadata": {}
  },
  {
   "cell_type": "code",
   "execution_count": null,
   "source": [
    "# Plot linear regression line\r\n",
    "plt.scatter(X, y)\r\n",
    "plt.plot(X_test, y_pred, color='red')\r\n",
    "plt.xlabel(\"Log(Rate of Change)\")\r\n",
    "plt.ylabel(\"Log(Average Age)\")\r\n",
    "plt.title(\"Age vs Telomere Rate of Change\")\r\n",
    "plt.show()"
   ],
   "outputs": [],
   "metadata": {}
  },
  {
   "cell_type": "code",
   "execution_count": null,
   "source": [
    "plt.hist(y_pred)\r\n",
    "plt.show()"
   ],
   "outputs": [],
   "metadata": {}
  },
  {
   "cell_type": "code",
   "execution_count": null,
   "source": [
    "pip install mlxtend"
   ],
   "outputs": [],
   "metadata": {}
  },
  {
   "cell_type": "code",
   "execution_count": null,
   "source": [
    "from mlxtend.evaluate import bias_variance_decomp\r\n",
    "\r\n",
    "mse, bias, var = bias_variance_decomp(model, X_train, y_train, X_test, y_test, loss='mse', num_rounds=200, random_seed=1)\r\n",
    "# summarize results\r\n",
    "print('MSE: %.3f' % mse)\r\n",
    "print('Bias: %.3f' % bias)\r\n",
    "print('Variance: %.3f' % var)"
   ],
   "outputs": [],
   "metadata": {}
  },
  {
   "cell_type": "code",
   "execution_count": null,
   "source": [
    "# model evaluation for testing set\r\n",
    "\r\n",
    "mae = metrics.mean_absolute_error(y_test, y_pred)\r\n",
    "mse = metrics.mean_squared_error(y_test, y_pred)\r\n",
    "r2 = metrics.r2_score(y_test, y_pred)\r\n",
    "\r\n",
    "print(\"The model performance for testing set\")\r\n",
    "print(\"--------------------------------------\")\r\n",
    "print('MAE is {}'.format(mae))\r\n",
    "print('MSE is {}'.format(mse))\r\n",
    "print('R2 score is {}'.format(r2))"
   ],
   "outputs": [],
   "metadata": {}
  },
  {
   "cell_type": "code",
   "execution_count": null,
   "source": [
    "# Define the table creation function for Database Write -- Commented out as code was needed only once\r\n",
    "\r\n",
    "\r\n",
    "# def create_table(curr, tablename):\r\n",
    "#    create_table_command = (\"\"\"CREATE TABLE IF NOT EXISTS %s (\r\n",
    "#                    BIRD_ID FLOAT NOT NULL PRIMARY KEY,\r\n",
    "#                    Average_Age FLOAT NOT NULL,\r\n",
    "#                    RTL_CHANGE FLOAT NOT NULL,\r\n",
    "#                    RATE_OF_CHANGE FLOAT NOT NULL\r\n",
    "#            )\"\"\")\r\n",
    " \r\n",
    "#    curr.execute(create_table_command, [psycopg2.extensions.AsIs(tablename)])"
   ],
   "outputs": [],
   "metadata": {}
  },
  {
   "cell_type": "code",
   "execution_count": null,
   "source": [
    "# Re-establish connection to Database  -- Commented out as code was needed only once\r\n",
    "\r\n",
    "\r\n",
    "# conn = psycopg2.connect(\r\n",
    "#    database=\"Predictive_Senescence_DB\", user='postgres', password= db_pw, host='predictive-senescence-db.cbunnafql9ym.us-east-2.rds.amazonaws.com', port= '5432'\r\n",
    "# )\r\n",
    "\r\n",
    "# #Setting auto commit false\r\n",
    "# conn.autocommit = True\r\n",
    "\r\n",
    "# #Creating a cursor object using the cursor() method\r\n",
    "# cursor = conn.cursor()\r\n",
    "\r\n",
    "# # Create a name for our table to pass to table creation function\r\n",
    "# TABLE_NAME = \"Rate_Of_Change_Table\"\r\n",
    "\r\n",
    "# # Creating new table in DB\r\n",
    "# create_table(cursor, TABLE_NAME)\r\n",
    "\r\n",
    "# # Define SQL execution command\r\n",
    "# insert_into_table = (\"\"\"INSERT INTO Rate_Of_Change_Table (BIRD_ID, Average_Age, RTL_CHANGE, RATE_OF_CHANGE) VALUES(%s,%s,%s,%s);\"\"\")\r\n",
    "\r\n",
    "# # Iterate through DF and execute commands to add data to table\r\n",
    "# for i, row in log_age_df.iterrows():\r\n",
    "#    row_to_insert = (row[\"Bird_ID\"], row[\"Average_Age\"], row[\"RTL_Change\"], row[\"Rate_Of_Change\"])\r\n",
    "#    cursor.execute(insert_into_table, row_to_insert)\r\n",
    "\r\n",
    "# #Commit your changes in the database\r\n",
    "# conn.commit()\r\n",
    "\r\n",
    "# #Closing the connection\r\n",
    "# conn.close()"
   ],
   "outputs": [],
   "metadata": {}
  }
 ],
 "metadata": {
  "interpreter": {
   "hash": "05e23c36e91c7ff3406bf94bef558952bde2381251ee5fed90991576b18c9da5"
  },
  "kernelspec": {
   "name": "python3",
   "display_name": "Python 3.7.10 64-bit ('mlenv': conda)"
  },
  "language_info": {
   "name": "python",
   "version": "3.7.10",
   "mimetype": "text/x-python",
   "codemirror_mode": {
    "name": "ipython",
    "version": 3
   },
   "pygments_lexer": "ipython3",
   "nbconvert_exporter": "python",
   "file_extension": ".py"
  }
 },
 "nbformat": 4,
 "nbformat_minor": 2
}