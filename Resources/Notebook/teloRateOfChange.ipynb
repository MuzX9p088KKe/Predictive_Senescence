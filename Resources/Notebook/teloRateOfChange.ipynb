{
          "cells": [
                    {
                              "cell_type": "code",
                              "execution_count": 3,
                              "source": [
                                        "%load_ext pycodestyle_magic"
                              ],
                              "outputs": [],
                              "metadata": {}
                    },
                    {
                              "cell_type": "code",
                              "execution_count": 1,
                              "source": [
                                        "import pandas as pd\r\n",
                                        "import matplotlib.pyplot as plt\r\n",
                                        "from sklearn.linear_model import LinearRegression\r\n",
                                        "from sklearn.model_selection import train_test_split\r\n",
                                        "from sklearn import metrics\r\n",
                                        "import numpy as np\r\n",
                                        "from config import db_pw;\r\n",
                                        "import psycopg2;"
                              ],
                              "outputs": [],
                              "metadata": {}
                    },
                    {
                              "cell_type": "code",
                              "execution_count": 2,
                              "source": [
                                        "#establishing the connection\r\n",
                                        "conn = psycopg2.connect(\r\n",
                                        "   database=\"Predictive_Senescence_DB\", user='postgres', password= db_pw, host='predictive-senescence-db.cbunnafql9ym.us-east-2.rds.amazonaws.com', port= '5432'\r\n",
                                        ")\r\n",
                                        "\r\n",
                                        "#Setting auto commit false\r\n",
                                        "conn.autocommit = True\r\n",
                                        "\r\n",
                                        "#Creating a cursor object using the cursor() method\r\n",
                                        "cursor = conn.cursor()\r\n",
                                        "\r\n",
                                        "#Retrieving data\r\n",
                                        "cursor.execute('''SELECT * from birds_data_raw''')\r\n",
                                        "\r\n",
                                        "#Fetching 1st row from the table\r\n",
                                        "bird_df = pd.DataFrame(cursor.fetchall(), columns=[\"Collection_Num\", \"Bird_ID\", \"Sex\", \"Agey\", \"AgeClass\", \"BirthFPID\", \"U_PlateID\", \"RTL\", \"Technician\", \"Terr\", \"FPID\", \"Mum\", \"Dad\", \"Mac\", \"Pac\", \"BRF\", \"BRM\"]);\r\n",
                                        "print(bird_df)\r\n",
                                        "\r\n",
                                        "#Commit your changes in the database\r\n",
                                        "conn.commit()\r\n",
                                        "\r\n",
                                        "#Closing the connection\r\n",
                                        "conn.close()"
                              ],
                              "outputs": [
                                        {
                                                  "output_type": "stream",
                                                  "name": "stdout",
                                                  "text": [
                                                            "      Collection_Num  Bird_ID  Sex       Agey AgeClass  BirthFPID U_PlateID  \\\n",
                                                            "0                  1     5511    0   0.246575        J        103       9_3   \n",
                                                            "1                  2     5559    1   3.597260        A        103       9_1   \n",
                                                            "2                  3     5559    1   4.715068        A        103      9_28   \n",
                                                            "3                  4     5559    1   0.657534       SA        103       9_2   \n",
                                                            "4                  5     5527    1   0.328767      OFL        103       9_3   \n",
                                                            "...              ...      ...  ...        ...      ...        ...       ...   \n",
                                                            "2657            2658      221    1   6.958904        A          8       2_1   \n",
                                                            "2658            2659      216    1   8.947945        A          8       8_8   \n",
                                                            "2659            2660      176    1   6.772603        A          8      7_32   \n",
                                                            "2660            2661      221    1   9.090411        A          8      1_12   \n",
                                                            "2661            2662      176    1  13.873973        A          8       4_3   \n",
                                                            "\n",
                                                            "       RTL  Technician   Terr  FPID   Mum   Dad       Mac       Pac   BRF  \\\n",
                                                            "0     1.06           1   10.0   104  4863  1762  3.920548  7.443836  4863   \n",
                                                            "1     0.52           1   77.1   122  1716  1877  7.416438  6.235616  1716   \n",
                                                            "2     1.07           1   77.1   125  1716  1877  7.416438  6.235616  1716   \n",
                                                            "3     0.99           1  111.0   104  1716  1877  7.416438  6.235616  1716   \n",
                                                            "4     1.02           1  131.0   104  4936  1710  3.452055  7.778082  1707   \n",
                                                            "...    ...         ...    ...   ...   ...   ...       ...       ...   ...   \n",
                                                            "2657  1.99           2   32.0    19     0     0  0.000000  0.000000     0   \n",
                                                            "2658  1.18           1   37.0    22     0     0  0.000000  0.000000     0   \n",
                                                            "2659  0.93           1   46.0    19     0     0  0.000000  0.000000     0   \n",
                                                            "2660  0.90           2   32.0    22     0     0  0.000000  0.000000     0   \n",
                                                            "2661  0.72           2   46.0    41     0     0  0.000000  0.000000     0   \n",
                                                            "\n",
                                                            "       BRM  \n",
                                                            "0     1762  \n",
                                                            "1     4892  \n",
                                                            "2     4892  \n",
                                                            "3     4892  \n",
                                                            "4     1710  \n",
                                                            "...    ...  \n",
                                                            "2657     0  \n",
                                                            "2658     0  \n",
                                                            "2659     0  \n",
                                                            "2660     0  \n",
                                                            "2661     0  \n",
                                                            "\n",
                                                            "[2662 rows x 17 columns]\n"
                                                  ]
                                        }
                              ],
                              "metadata": {}
                    },
                    {
                              "cell_type": "code",
                              "execution_count": 3,
                              "source": [
                                        "max(bird_df[\"Agey\"])"
                              ],
                              "outputs": [
                                        {
                                                  "output_type": "execute_result",
                                                  "data": {
                                                            "text/plain": [
                                                                      "16.9369863"
                                                            ]
                                                  },
                                                  "metadata": {},
                                                  "execution_count": 3
                                        }
                              ],
                              "metadata": {}
                    },
                    {
                              "cell_type": "code",
                              "execution_count": 4,
                              "source": [
                                        "#Make a list to hold unique ID's found in bird_df\r\n",
                                        "passover_list = [0,1]\r\n",
                                        "\r\n",
                                        "#Make a DF to hold the overall change in Age and RTL for each bird\r\n",
                                        "changeRate_df = pd.DataFrame(columns=[\"Bird_ID\", \"Average_Age\", \"RTL_Change\", \"Rate_Of_Change\"])\r\n",
                                        "\r\n",
                                        "#Iterate once for each row in the bird_df\r\n",
                                        "for i in range(len(bird_df[\"Bird_ID\"])):\r\n",
                                        "    #If the Bird_ID in this row is not in our passover list (already processed), continue\r\n",
                                        "    if(bird_df.loc[i,\"Bird_ID\"] not in passover_list):\r\n",
                                        "\r\n",
                                        "        #Initialize indexer for next row(s) and make a DF to hold all duplicate ID's, their ages and RTL values\r\n",
                                        "        k = i+1\r\n",
                                        "        holder_df = pd.DataFrame({\"ID\": [bird_df.loc[i,\"Bird_ID\"]], \"Age\": [bird_df.loc[i, \"Agey\"]], \"RTL\": [bird_df.loc[i,\"RTL\"]]})\r\n",
                                        "\r\n",
                                        "        #Loop through all rows with matching ID's\r\n",
                                        "        while(bird_df.loc[k,\"Bird_ID\"] == bird_df.loc[i,\"Bird_ID\"]):\r\n",
                                        "            #Place matching rows data into holder_DF and incriment indexer\r\n",
                                        "            holder_df = holder_df.append({\"ID\": bird_df.loc[k,\"Bird_ID\"], \"Age\": bird_df.loc[k, \"Agey\"], \"RTL\": bird_df.loc[k,\"RTL\"]}, ignore_index=True)\r\n",
                                        "            k = k+1\r\n",
                                        "\r\n",
                                        "        #We are only interested in birds with multiple collections -- this is to identify rate of change in telomere\r\n",
                                        "        if(len(holder_df[\"ID\"]) > 1):\r\n",
                                        "            #Initialize variables for changeRate_df populating\r\n",
                                        "            max_age = 0\r\n",
                                        "            min_age = 0\r\n",
                                        "            final_rtl = 0\r\n",
                                        "            first_rtl = 0\r\n",
                                        "            total_ratio = 0\r\n",
                                        "            count = len(holder_df[\"ID\"])\r\n",
                                        "            for row in holder_df.iterrows():\r\n",
                                        "                id = row[1].ID\r\n",
                                        "                if(row[1].Age == max(holder_df[\"Age\"])):\r\n",
                                        "                    max_age = row[1].Age\r\n",
                                        "                    final_rtl = row[1].RTL\r\n",
                                        "                elif(row[1].Age == min(holder_df[\"Age\"])):\r\n",
                                        "                    min_age = row[1].Age\r\n",
                                        "                    first_rtl = row[1].RTL\r\n",
                                        "                total_ratio = total_ratio + (row[1].Age / row[1].RTL)\r\n",
                                        "            Average_Age = holder_df[\"Age\"].mean()\r\n",
                                        "            rtl_change = final_rtl - first_rtl\r\n",
                                        "            change_rate = total_ratio/count\r\n",
                                        "            total_ratio = 0\r\n",
                                        "            changeRate_df = changeRate_df.append({\"Bird_ID\": id, \"Average_Age\": Average_Age, \"RTL_Change\": rtl_change, \"Rate_Of_Change\": change_rate}, ignore_index=True)\r\n",
                                        "        passover_list.append(bird_df.loc[i,\"Bird_ID\"])\r\n",
                                        "\r\n",
                                        "changeRate_df.head(10)"
                              ],
                              "outputs": [
                                        {
                                                  "output_type": "execute_result",
                                                  "data": {
                                                            "text/html": [
                                                                      "<div>\n",
                                                                      "<style scoped>\n",
                                                                      "    .dataframe tbody tr th:only-of-type {\n",
                                                                      "        vertical-align: middle;\n",
                                                                      "    }\n",
                                                                      "\n",
                                                                      "    .dataframe tbody tr th {\n",
                                                                      "        vertical-align: top;\n",
                                                                      "    }\n",
                                                                      "\n",
                                                                      "    .dataframe thead th {\n",
                                                                      "        text-align: right;\n",
                                                                      "    }\n",
                                                                      "</style>\n",
                                                                      "<table border=\"1\" class=\"dataframe\">\n",
                                                                      "  <thead>\n",
                                                                      "    <tr style=\"text-align: right;\">\n",
                                                                      "      <th></th>\n",
                                                                      "      <th>Bird_ID</th>\n",
                                                                      "      <th>Average_Age</th>\n",
                                                                      "      <th>RTL_Change</th>\n",
                                                                      "      <th>Rate_Of_Change</th>\n",
                                                                      "    </tr>\n",
                                                                      "  </thead>\n",
                                                                      "  <tbody>\n",
                                                                      "    <tr>\n",
                                                                      "      <th>0</th>\n",
                                                                      "      <td>5559.0</td>\n",
                                                                      "      <td>2.989954</td>\n",
                                                                      "      <td>0.08</td>\n",
                                                                      "      <td>3.996197</td>\n",
                                                                      "    </tr>\n",
                                                                      "    <tr>\n",
                                                                      "      <th>1</th>\n",
                                                                      "      <td>5539.0</td>\n",
                                                                      "      <td>1.310959</td>\n",
                                                                      "      <td>-0.25</td>\n",
                                                                      "      <td>3.267273</td>\n",
                                                                      "    </tr>\n",
                                                                      "    <tr>\n",
                                                                      "      <th>2</th>\n",
                                                                      "      <td>5536.0</td>\n",
                                                                      "      <td>2.325342</td>\n",
                                                                      "      <td>0.49</td>\n",
                                                                      "      <td>2.932903</td>\n",
                                                                      "    </tr>\n",
                                                                      "    <tr>\n",
                                                                      "      <th>3</th>\n",
                                                                      "      <td>5549.0</td>\n",
                                                                      "      <td>1.623288</td>\n",
                                                                      "      <td>0.12</td>\n",
                                                                      "      <td>3.530438</td>\n",
                                                                      "    </tr>\n",
                                                                      "    <tr>\n",
                                                                      "      <th>4</th>\n",
                                                                      "      <td>5509.0</td>\n",
                                                                      "      <td>0.821918</td>\n",
                                                                      "      <td>0.02</td>\n",
                                                                      "      <td>0.983247</td>\n",
                                                                      "    </tr>\n",
                                                                      "    <tr>\n",
                                                                      "      <th>5</th>\n",
                                                                      "      <td>5573.0</td>\n",
                                                                      "      <td>1.167123</td>\n",
                                                                      "      <td>0.29</td>\n",
                                                                      "      <td>1.258218</td>\n",
                                                                      "    </tr>\n",
                                                                      "    <tr>\n",
                                                                      "      <th>6</th>\n",
                                                                      "      <td>5534.0</td>\n",
                                                                      "      <td>0.900000</td>\n",
                                                                      "      <td>0.41</td>\n",
                                                                      "      <td>0.680796</td>\n",
                                                                      "    </tr>\n",
                                                                      "    <tr>\n",
                                                                      "      <th>7</th>\n",
                                                                      "      <td>5553.0</td>\n",
                                                                      "      <td>0.832877</td>\n",
                                                                      "      <td>0.42</td>\n",
                                                                      "      <td>0.882583</td>\n",
                                                                      "    </tr>\n",
                                                                      "    <tr>\n",
                                                                      "      <th>8</th>\n",
                                                                      "      <td>5652.0</td>\n",
                                                                      "      <td>0.871233</td>\n",
                                                                      "      <td>-0.22</td>\n",
                                                                      "      <td>1.346245</td>\n",
                                                                      "    </tr>\n",
                                                                      "    <tr>\n",
                                                                      "      <th>9</th>\n",
                                                                      "      <td>5547.0</td>\n",
                                                                      "      <td>1.752329</td>\n",
                                                                      "      <td>0.18</td>\n",
                                                                      "      <td>2.216732</td>\n",
                                                                      "    </tr>\n",
                                                                      "  </tbody>\n",
                                                                      "</table>\n",
                                                                      "</div>"
                                                            ],
                                                            "text/plain": [
                                                                      "   Bird_ID  Average_Age  RTL_Change  Rate_Of_Change\n",
                                                                      "0   5559.0     2.989954        0.08        3.996197\n",
                                                                      "1   5539.0     1.310959       -0.25        3.267273\n",
                                                                      "2   5536.0     2.325342        0.49        2.932903\n",
                                                                      "3   5549.0     1.623288        0.12        3.530438\n",
                                                                      "4   5509.0     0.821918        0.02        0.983247\n",
                                                                      "5   5573.0     1.167123        0.29        1.258218\n",
                                                                      "6   5534.0     0.900000        0.41        0.680796\n",
                                                                      "7   5553.0     0.832877        0.42        0.882583\n",
                                                                      "8   5652.0     0.871233       -0.22        1.346245\n",
                                                                      "9   5547.0     1.752329        0.18        2.216732"
                                                            ]
                                                  },
                                                  "metadata": {},
                                                  "execution_count": 4
                                        }
                              ],
                              "metadata": {}
                    },
                    {
                              "cell_type": "code",
                              "execution_count": 5,
                              "source": [
                                        "# Plot RTL_Change vs Average_Age\r\n",
                                        "changeRate_df.plot.scatter(x='Rate_Of_Change', y='Average_Age', color='Red')"
                              ],
                              "outputs": [
                                        {
                                                  "output_type": "execute_result",
                                                  "data": {
                                                            "text/plain": [
                                                                      "<AxesSubplot:xlabel='Rate_Of_Change', ylabel='Average_Age'>"
                                                            ]
                                                  },
                                                  "metadata": {},
                                                  "execution_count": 5
                                        },
                                        {
                                                  "output_type": "display_data",
                                                  "data": {
                                                            "image/png": "[encoded data removed]",
                                                            "text/plain": [
                                                                      "<Figure size 432x288 with 1 Axes>"
                                                            ]
                                                  },
                                                  "metadata": {
                                                            "needs_background": "light"
                                                  }
                                        }
                              ],
                              "metadata": {}
                    },
                    {
                              "cell_type": "code",
                              "execution_count": 6,
                              "source": [
                                        "# Attempt Quadratic transformation on Rate_Of_Change\r\n",
                                        "quad_df = changeRate_df.copy()\r\n",
                                        "quad_df[\"Rate_Of_Change\"] = changeRate_df[\"Rate_Of_Change\"] * changeRate_df[\"Rate_Of_Change\"]\r\n",
                                        "quad_df.plot.scatter(x='Rate_Of_Change', y='Average_Age', color='Blue')"
                              ],
                              "outputs": [
                                        {
                                                  "output_type": "execute_result",
                                                  "data": {
                                                            "text/plain": [
                                                                      "<AxesSubplot:xlabel='Rate_Of_Change', ylabel='Average_Age'>"
                                                            ]
                                                  },
                                                  "metadata": {},
                                                  "execution_count": 6
                                        },
                                        {
                                                  "output_type": "display_data",
                                                  "data": {
                                                            "image/png": "[encoded data removed]",
                                                            "text/plain": [
                                                                      "<Figure size 432x288 with 1 Axes>"
                                                            ]
                                                  },
                                                  "metadata": {
                                                            "needs_background": "light"
                                                  }
                                        }
                              ],
                              "metadata": {}
                    },
                    {
                              "cell_type": "code",
                              "execution_count": 7,
                              "source": [
                                        "quad_df[\"Rate_Of_Change\"].corr(quad_df[\"Average_Age\"])"
                              ],
                              "outputs": [
                                        {
                                                  "output_type": "execute_result",
                                                  "data": {
                                                            "text/plain": [
                                                                      "0.6378225831885936"
                                                            ]
                                                  },
                                                  "metadata": {},
                                                  "execution_count": 7
                                        }
                              ],
                              "metadata": {}
                    },
                    {
                              "cell_type": "code",
                              "execution_count": 8,
                              "source": [
                                        "# Attempt Log Transformation on Rate_Of_Change\r\n",
                                        "log_df = changeRate_df.copy()\r\n",
                                        "log_df[\"Average_Age\"] = np.sqrt((log_df[\"Average_Age\"]))\r\n",
                                        "log_df.plot.scatter(x='Rate_Of_Change', y='Average_Age', color='Orange')"
                              ],
                              "outputs": [
                                        {
                                                  "output_type": "execute_result",
                                                  "data": {
                                                            "text/plain": [
                                                                      "<AxesSubplot:xlabel='Rate_Of_Change', ylabel='Average_Age'>"
                                                            ]
                                                  },
                                                  "metadata": {},
                                                  "execution_count": 8
                                        },
                                        {
                                                  "output_type": "display_data",
                                                  "data": {
                                                            "image/png": "[encoded data removed]",
                                                            "text/plain": [
                                                                      "<Figure size 432x288 with 1 Axes>"
                                                            ]
                                                  },
                                                  "metadata": {
                                                            "needs_background": "light"
                                                  }
                                        }
                              ],
                              "metadata": {}
                    },
                    {
                              "cell_type": "code",
                              "execution_count": 9,
                              "source": [
                                        "log_df[\"Rate_Of_Change\"].corr(log_df[\"Average_Age\"])"
                              ],
                              "outputs": [
                                        {
                                                  "output_type": "execute_result",
                                                  "data": {
                                                            "text/plain": [
                                                                      "0.8297577628771989"
                                                            ]
                                                  },
                                                  "metadata": {},
                                                  "execution_count": 9
                                        }
                              ],
                              "metadata": {}
                    },
                    {
                              "cell_type": "code",
                              "execution_count": 10,
                              "source": [
                                        "# Attempt Log Transformation on Average_Age\r\n",
                                        "log_df = changeRate_df.copy()\r\n",
                                        "log_df[\"Average_Age\"] = np.log(changeRate_df[\"Average_Age\"])\r\n",
                                        "log_df.plot.scatter(x='Rate_Of_Change', y='Average_Age', color='Cyan')"
                              ],
                              "outputs": [
                                        {
                                                  "output_type": "execute_result",
                                                  "data": {
                                                            "text/plain": [
                                                                      "<AxesSubplot:xlabel='Rate_Of_Change', ylabel='Average_Age'>"
                                                            ]
                                                  },
                                                  "metadata": {},
                                                  "execution_count": 10
                                        },
                                        {
                                                  "output_type": "display_data",
                                                  "data": {
                                                            "image/png": "[encoded data removed]",
                                                            "text/plain": [
                                                                      "<Figure size 432x288 with 1 Axes>"
                                                            ]
                                                  },
                                                  "metadata": {
                                                            "needs_background": "light"
                                                  }
                                        }
                              ],
                              "metadata": {}
                    },
                    {
                              "cell_type": "code",
                              "execution_count": 11,
                              "source": [
                                        "# Attempt Log Transformation on Average_Age and Rate_Of_Change\r\n",
                                        "log_age_df = changeRate_df.copy()\r\n",
                                        "log_age_df[\"Average_Age\"] = np.log(changeRate_df[\"Average_Age\"])\r\n",
                                        "log_age_df[\"Rate_Of_Change\"] = np.log(changeRate_df[\"Rate_Of_Change\"])\r\n",
                                        "log_age_df.plot.scatter(x='Rate_Of_Change', y='Average_Age', color='Purple')"
                              ],
                              "outputs": [
                                        {
                                                  "output_type": "execute_result",
                                                  "data": {
                                                            "text/plain": [
                                                                      "<AxesSubplot:xlabel='Rate_Of_Change', ylabel='Average_Age'>"
                                                            ]
                                                  },
                                                  "metadata": {},
                                                  "execution_count": 11
                                        },
                                        {
                                                  "output_type": "display_data",
                                                  "data": {
                                                            "image/png": "[encoded data removed]",
                                                            "text/plain": [
                                                                      "<Figure size 432x288 with 1 Axes>"
                                                            ]
                                                  },
                                                  "metadata": {
                                                            "needs_background": "light"
                                                  }
                                        }
                              ],
                              "metadata": {}
                    },
                    {
                              "cell_type": "code",
                              "execution_count": 12,
                              "source": [
                                        "log_age_df[\"Rate_Of_Change\"].corr(log_age_df[\"Average_Age\"])"
                              ],
                              "outputs": [
                                        {
                                                  "output_type": "execute_result",
                                                  "data": {
                                                            "text/plain": [
                                                                      "0.9450535894488945"
                                                            ]
                                                  },
                                                  "metadata": {},
                                                  "execution_count": 12
                                        }
                              ],
                              "metadata": {}
                    },
                    {
                              "cell_type": "code",
                              "execution_count": 13,
                              "source": [
                                        "# Start processing on Rate of Change (Age/RTL)\r\n",
                                        "plot_df = changeRate_df.copy()\r\n",
                                        "plot_df"
                              ],
                              "outputs": [
                                        {
                                                  "output_type": "execute_result",
                                                  "data": {
                                                            "text/html": [
                                                                      "<div>\n",
                                                                      "<style scoped>\n",
                                                                      "    .dataframe tbody tr th:only-of-type {\n",
                                                                      "        vertical-align: middle;\n",
                                                                      "    }\n",
                                                                      "\n",
                                                                      "    .dataframe tbody tr th {\n",
                                                                      "        vertical-align: top;\n",
                                                                      "    }\n",
                                                                      "\n",
                                                                      "    .dataframe thead th {\n",
                                                                      "        text-align: right;\n",
                                                                      "    }\n",
                                                                      "</style>\n",
                                                                      "<table border=\"1\" class=\"dataframe\">\n",
                                                                      "  <thead>\n",
                                                                      "    <tr style=\"text-align: right;\">\n",
                                                                      "      <th></th>\n",
                                                                      "      <th>Bird_ID</th>\n",
                                                                      "      <th>Average_Age</th>\n",
                                                                      "      <th>RTL_Change</th>\n",
                                                                      "      <th>Rate_Of_Change</th>\n",
                                                                      "    </tr>\n",
                                                                      "  </thead>\n",
                                                                      "  <tbody>\n",
                                                                      "    <tr>\n",
                                                                      "      <th>0</th>\n",
                                                                      "      <td>5559.0</td>\n",
                                                                      "      <td>2.989954</td>\n",
                                                                      "      <td>0.08</td>\n",
                                                                      "      <td>3.996197</td>\n",
                                                                      "    </tr>\n",
                                                                      "    <tr>\n",
                                                                      "      <th>1</th>\n",
                                                                      "      <td>5539.0</td>\n",
                                                                      "      <td>1.310959</td>\n",
                                                                      "      <td>-0.25</td>\n",
                                                                      "      <td>3.267273</td>\n",
                                                                      "    </tr>\n",
                                                                      "    <tr>\n",
                                                                      "      <th>2</th>\n",
                                                                      "      <td>5536.0</td>\n",
                                                                      "      <td>2.325342</td>\n",
                                                                      "      <td>0.49</td>\n",
                                                                      "      <td>2.932903</td>\n",
                                                                      "    </tr>\n",
                                                                      "    <tr>\n",
                                                                      "      <th>3</th>\n",
                                                                      "      <td>5549.0</td>\n",
                                                                      "      <td>1.623288</td>\n",
                                                                      "      <td>0.12</td>\n",
                                                                      "      <td>3.530438</td>\n",
                                                                      "    </tr>\n",
                                                                      "    <tr>\n",
                                                                      "      <th>4</th>\n",
                                                                      "      <td>5509.0</td>\n",
                                                                      "      <td>0.821918</td>\n",
                                                                      "      <td>0.02</td>\n",
                                                                      "      <td>0.983247</td>\n",
                                                                      "    </tr>\n",
                                                                      "    <tr>\n",
                                                                      "      <th>...</th>\n",
                                                                      "      <td>...</td>\n",
                                                                      "      <td>...</td>\n",
                                                                      "      <td>...</td>\n",
                                                                      "      <td>...</td>\n",
                                                                      "    </tr>\n",
                                                                      "    <tr>\n",
                                                                      "      <th>556</th>\n",
                                                                      "      <td>5465.0</td>\n",
                                                                      "      <td>0.971233</td>\n",
                                                                      "      <td>-1.64</td>\n",
                                                                      "      <td>1.435086</td>\n",
                                                                      "    </tr>\n",
                                                                      "    <tr>\n",
                                                                      "      <th>557</th>\n",
                                                                      "      <td>5313.0</td>\n",
                                                                      "      <td>1.221918</td>\n",
                                                                      "      <td>0.04</td>\n",
                                                                      "      <td>1.952461</td>\n",
                                                                      "    </tr>\n",
                                                                      "    <tr>\n",
                                                                      "      <th>558</th>\n",
                                                                      "      <td>5529.0</td>\n",
                                                                      "      <td>1.638356</td>\n",
                                                                      "      <td>0.14</td>\n",
                                                                      "      <td>1.438498</td>\n",
                                                                      "    </tr>\n",
                                                                      "    <tr>\n",
                                                                      "      <th>559</th>\n",
                                                                      "      <td>5531.0</td>\n",
                                                                      "      <td>1.689041</td>\n",
                                                                      "      <td>0.03</td>\n",
                                                                      "      <td>1.961952</td>\n",
                                                                      "    </tr>\n",
                                                                      "    <tr>\n",
                                                                      "      <th>560</th>\n",
                                                                      "      <td>5498.0</td>\n",
                                                                      "      <td>2.589954</td>\n",
                                                                      "      <td>0.29</td>\n",
                                                                      "      <td>3.299491</td>\n",
                                                                      "    </tr>\n",
                                                                      "  </tbody>\n",
                                                                      "</table>\n",
                                                                      "<p>561 rows × 4 columns</p>\n",
                                                                      "</div>"
                                                            ],
                                                            "text/plain": [
                                                                      "     Bird_ID  Average_Age  RTL_Change  Rate_Of_Change\n",
                                                                      "0     5559.0     2.989954        0.08        3.996197\n",
                                                                      "1     5539.0     1.310959       -0.25        3.267273\n",
                                                                      "2     5536.0     2.325342        0.49        2.932903\n",
                                                                      "3     5549.0     1.623288        0.12        3.530438\n",
                                                                      "4     5509.0     0.821918        0.02        0.983247\n",
                                                                      "..       ...          ...         ...             ...\n",
                                                                      "556   5465.0     0.971233       -1.64        1.435086\n",
                                                                      "557   5313.0     1.221918        0.04        1.952461\n",
                                                                      "558   5529.0     1.638356        0.14        1.438498\n",
                                                                      "559   5531.0     1.689041        0.03        1.961952\n",
                                                                      "560   5498.0     2.589954        0.29        3.299491\n",
                                                                      "\n",
                                                                      "[561 rows x 4 columns]"
                                                            ]
                                                  },
                                                  "metadata": {},
                                                  "execution_count": 13
                                        }
                              ],
                              "metadata": {}
                    },
                    {
                              "cell_type": "code",
                              "execution_count": 14,
                              "source": [
                                        "# Identify Rate of change to age correlation\r\n",
                                        "changeRate_df[\"Rate_Of_Change\"].corr(changeRate_df[\"Average_Age\"])"
                              ],
                              "outputs": [
                                        {
                                                  "output_type": "execute_result",
                                                  "data": {
                                                            "text/plain": [
                                                                      "0.8725830039135662"
                                                            ]
                                                  },
                                                  "metadata": {},
                                                  "execution_count": 14
                                        }
                              ],
                              "metadata": {}
                    },
                    {
                              "cell_type": "code",
                              "execution_count": 15,
                              "source": [
                                        "# Observe Stats of Change Rate\r\n",
                                        "changeRate_df.boxplot(\"Rate_Of_Change\")"
                              ],
                              "outputs": [
                                        {
                                                  "output_type": "execute_result",
                                                  "data": {
                                                            "text/plain": [
                                                                      "<AxesSubplot:>"
                                                            ]
                                                  },
                                                  "metadata": {},
                                                  "execution_count": 15
                                        },
                                        {
                                                  "output_type": "display_data",
                                                  "data": {
                                                            "image/png": "[encoded data removed]",
                                                            "text/plain": [
                                                                      "<Figure size 432x288 with 1 Axes>"
                                                            ]
                                                  },
                                                  "metadata": {
                                                            "needs_background": "light"
                                                  }
                                        }
                              ],
                              "metadata": {}
                    },
                    {
                              "cell_type": "code",
                              "execution_count": 16,
                              "source": [
                                        "# Remove Significant Outliers\r\n",
                                        "changeRate_df = changeRate_df.loc[changeRate_df[\"Rate_Of_Change\"] > -5]\r\n",
                                        "changeRate_df = changeRate_df.loc[changeRate_df[\"Rate_Of_Change\"] < 8.5]"
                              ],
                              "outputs": [],
                              "metadata": {}
                    },
                    {
                              "cell_type": "code",
                              "execution_count": 17,
                              "source": [
                                        "# Plot Age vs Rate of Change\r\n",
                                        "changeRate_df.plot.scatter(x='Rate_Of_Change', y='Average_Age', color='Black')"
                              ],
                              "outputs": [
                                        {
                                                  "output_type": "execute_result",
                                                  "data": {
                                                            "text/plain": [
                                                                      "<AxesSubplot:xlabel='Rate_Of_Change', ylabel='Average_Age'>"
                                                            ]
                                                  },
                                                  "metadata": {},
                                                  "execution_count": 17
                                        },
                                        {
                                                  "output_type": "display_data",
                                                  "data": {
                                                            "image/png": "[encoded data removed]",
                                                            "text/plain": [
                                                                      "<Figure size 432x288 with 1 Axes>"
                                                            ]
                                                  },
                                                  "metadata": {
                                                            "needs_background": "light"
                                                  }
                                        }
                              ],
                              "metadata": {}
                    },
                    {
                              "cell_type": "code",
                              "execution_count": 18,
                              "source": [
                                        "# Initialize variables and Model\r\n",
                                        "X = changeRate_df[\"Rate_Of_Change\"].values.reshape(-1,1)\r\n",
                                        "y = changeRate_df[\"Average_Age\"]\r\n",
                                        "model = LinearRegression()"
                              ],
                              "outputs": [],
                              "metadata": {}
                    },
                    {
                              "cell_type": "code",
                              "execution_count": 19,
                              "source": [
                                        "plt.hist(X)\r\n",
                                        "plt.show()"
                              ],
                              "outputs": [
                                        {
                                                  "output_type": "display_data",
                                                  "data": {
                                                            "image/png": "[encoded data removed]",
                                                            "text/plain": [
                                                                      "<Figure size 432x288 with 1 Axes>"
                                                            ]
                                                  },
                                                  "metadata": {
                                                            "needs_background": "light"
                                                  }
                                        }
                              ],
                              "metadata": {}
                    },
                    {
                              "cell_type": "code",
                              "execution_count": 20,
                              "source": [
                                        "plt.hist(y)\r\n",
                                        "plt.show()"
                              ],
                              "outputs": [
                                        {
                                                  "output_type": "display_data",
                                                  "data": {
                                                            "image/png": "[encoded data removed]",
                                                            "text/plain": [
                                                                      "<Figure size 432x288 with 1 Axes>"
                                                            ]
                                                  },
                                                  "metadata": {
                                                            "needs_background": "light"
                                                  }
                                        }
                              ],
                              "metadata": {}
                    },
                    {
                              "cell_type": "code",
                              "execution_count": 21,
                              "source": [
                                        "#Run a BoxCox transformation on the data -- see if regression is improved\r\n",
                                        "from scipy import stats\r\n",
                                        "fitted_data, fitted_lambda = stats.boxcox(changeRate_df[\"Rate_Of_Change\"].values)\r\n",
                                        "plt.hist(fitted_data)\r\n",
                                        "plt.show()"
                              ],
                              "outputs": [
                                        {
                                                  "output_type": "display_data",
                                                  "data": {
                                                            "image/png": "[encoded data removed]",
                                                            "text/plain": [
                                                                      "<Figure size 432x288 with 1 Axes>"
                                                            ]
                                                  },
                                                  "metadata": {
                                                            "needs_background": "light"
                                                  }
                                        }
                              ],
                              "metadata": {}
                    },
                    {
                              "cell_type": "code",
                              "execution_count": 22,
                              "source": [
                                        "from scipy import stats\r\n",
                                        "fitted_y, fitted_lambda = stats.boxcox(changeRate_df[\"Average_Age\"])\r\n",
                                        "plt.hist(fitted_y)\r\n",
                                        "plt.show()"
                              ],
                              "outputs": [
                                        {
                                                  "output_type": "display_data",
                                                  "data": {
                                                            "image/png": "[encoded data removed]",
                                                            "text/plain": [
                                                                      "<Figure size 432x288 with 1 Axes>"
                                                            ]
                                                  },
                                                  "metadata": {
                                                            "needs_background": "light"
                                                  }
                                        }
                              ],
                              "metadata": {}
                    },
                    {
                              "cell_type": "code",
                              "execution_count": 23,
                              "source": [
                                        "X = fitted_data.reshape(-1,1)\r\n",
                                        "y = fitted_y"
                              ],
                              "outputs": [],
                              "metadata": {}
                    },
                    {
                              "cell_type": "code",
                              "execution_count": 24,
                              "source": [
                                        "# Split data into training and testing\r\n",
                                        "X_train, X_test, y_train, y_test = train_test_split(X, \r\n",
                                        "                                                    y, \r\n",
                                        "                                                    random_state=1)\r\n",
                                        "X_train.shape"
                              ],
                              "outputs": [
                                        {
                                                  "output_type": "execute_result",
                                                  "data": {
                                                            "text/plain": [
                                                                      "(381, 1)"
                                                            ]
                                                  },
                                                  "metadata": {},
                                                  "execution_count": 24
                                        }
                              ],
                              "metadata": {}
                    },
                    {
                              "cell_type": "code",
                              "execution_count": 25,
                              "source": [
                                        "# Fit Model\r\n",
                                        "model.fit(X_train, y_train)"
                              ],
                              "outputs": [
                                        {
                                                  "output_type": "execute_result",
                                                  "data": {
                                                            "text/plain": [
                                                                      "LinearRegression()"
                                                            ]
                                                  },
                                                  "metadata": {},
                                                  "execution_count": 25
                                        }
                              ],
                              "metadata": {}
                    },
                    {
                              "cell_type": "code",
                              "execution_count": 26,
                              "source": [
                                        "# Make predictions and print the shape\r\n",
                                        "y_pred = model.predict(X_test)\r\n",
                                        "print(y_pred.shape)"
                              ],
                              "outputs": [
                                        {
                                                  "output_type": "stream",
                                                  "name": "stdout",
                                                  "text": [
                                                            "(128,)\n"
                                                  ]
                                        }
                              ],
                              "metadata": {}
                    },
                    {
                              "cell_type": "code",
                              "execution_count": 27,
                              "source": [
                                        "# Plot linear regression line\r\n",
                                        "plt.scatter(X, y)\r\n",
                                        "plt.plot(X_test, y_pred, color='red')\r\n",
                                        "plt.xlabel(\"Log(Rate of Change)\")\r\n",
                                        "plt.ylabel(\"Log(Average Age)\")\r\n",
                                        "plt.title(\"Age vs Telomere Rate of Change\")\r\n",
                                        "plt.show()"
                              ],
                              "outputs": [
                                        {
                                                  "output_type": "display_data",
                                                  "data": {
                                                            "image/png": "[encoded data removed]",
                                                            "text/plain": [
                                                                      "<Figure size 432x288 with 1 Axes>"
                                                            ]
                                                  },
                                                  "metadata": {
                                                            "needs_background": "light"
                                                  }
                                        }
                              ],
                              "metadata": {}
                    },
                    {
                              "cell_type": "code",
                              "execution_count": 28,
                              "source": [
                                        "plt.hist(y_pred)\r\n",
                                        "plt.show()"
                              ],
                              "outputs": [
                                        {
                                                  "output_type": "display_data",
                                                  "data": {
                                                            "image/png": "[encoded data removed]",
                                                            "text/plain": [
                                                                      "<Figure size 432x288 with 1 Axes>"
                                                            ]
                                                  },
                                                  "metadata": {
                                                            "needs_background": "light"
                                                  }
                                        }
                              ],
                              "metadata": {}
                    },
                    {
                              "cell_type": "code",
                              "execution_count": 30,
                              "source": [
                                        "from mlxtend.evaluate import bias_variance_decomp\r\n",
                                        "\r\n",
                                        "mse, bias, var = bias_variance_decomp(model, X_train, y_train, X_test, y_test, loss='mse', num_rounds=200, random_seed=1)\r\n",
                                        "# summarize results\r\n",
                                        "print('MSE: %.3f' % mse)\r\n",
                                        "print('Bias: %.3f' % bias)\r\n",
                                        "print('Variance: %.3f' % var)"
                              ],
                              "outputs": [
                                        {
                                                  "output_type": "stream",
                                                  "name": "stdout",
                                                  "text": [
                                                            "MSE: 0.114\n",
                                                            "Bias: 0.114\n",
                                                            "Variance: 0.001\n"
                                                  ]
                                        }
                              ],
                              "metadata": {}
                    },
                    {
                              "cell_type": "code",
                              "execution_count": 31,
                              "source": [
                                        "# model evaluation for testing set\r\n",
                                        "\r\n",
                                        "mae = metrics.mean_absolute_error(y_test, y_pred)\r\n",
                                        "mse = metrics.mean_squared_error(y_test, y_pred)\r\n",
                                        "r2 = metrics.r2_score(y_test, y_pred)\r\n",
                                        "\r\n",
                                        "print(\"The model performance for testing set\")\r\n",
                                        "print(\"--------------------------------------\")\r\n",
                                        "print('MAE is {}'.format(mae))\r\n",
                                        "print('MSE is {}'.format(mse))\r\n",
                                        "print('R2 score is {}'.format(r2))"
                              ],
                              "outputs": [
                                        {
                                                  "output_type": "stream",
                                                  "name": "stdout",
                                                  "text": [
                                                            "The model performance for testing set\n",
                                                            "--------------------------------------\n",
                                                            "MAE is 0.26789377305609885\n",
                                                            "MSE is 0.11357240613092948\n",
                                                            "R2 score is 0.8681742279327084\n"
                                                  ]
                                        }
                              ],
                              "metadata": {}
                    },
                    {
                              "cell_type": "code",
                              "execution_count": 32,
                              "source": [
                                        "# Define the table creation function for Database Write -- Commented out as code was needed only once\r\n",
                                        "\r\n",
                                        "\r\n",
                                        "# def create_table(curr, tablename):\r\n",
                                        "#    create_table_command = (\"\"\"CREATE TABLE IF NOT EXISTS %s (\r\n",
                                        "#                    BIRD_ID FLOAT NOT NULL PRIMARY KEY,\r\n",
                                        "#                    Average_Age FLOAT NOT NULL,\r\n",
                                        "#                    RTL_CHANGE FLOAT NOT NULL,\r\n",
                                        "#                    RATE_OF_CHANGE FLOAT NOT NULL\r\n",
                                        "#            )\"\"\")\r\n",
                                        " \r\n",
                                        "#    curr.execute(create_table_command, [psycopg2.extensions.AsIs(tablename)])"
                              ],
                              "outputs": [],
                              "metadata": {}
                    },
                    {
                              "cell_type": "code",
                              "execution_count": 37,
                              "source": [
                                        "# Re-establish connection to Database  -- Commented out as code was needed only once\r\n",
                                        "\r\n",
                                        "\r\n",
                                        "# conn = psycopg2.connect(\r\n",
                                        "#    database=\"Predictive_Senescence_DB\", user='postgres', password= db_pw, host='predictive-senescence-db.cbunnafql9ym.us-east-2.rds.amazonaws.com', port= '5432'\r\n",
                                        "# )\r\n",
                                        "\r\n",
                                        "# #Setting auto commit false\r\n",
                                        "# conn.autocommit = True\r\n",
                                        "\r\n",
                                        "# #Creating a cursor object using the cursor() method\r\n",
                                        "# cursor = conn.cursor()\r\n",
                                        "\r\n",
                                        "# # Create a name for our table to pass to table creation function\r\n",
                                        "# TABLE_NAME = \"Megaphone_Data\"\r\n",
                                        "\r\n",
                                        "# # Creating new table in DB\r\n",
                                        "# create_table(cursor, TABLE_NAME)\r\n",
                                        "\r\n",
                                        "# # Define SQL execution command\r\n",
                                        "# insert_into_table = (\"\"\"INSERT INTO Megaphone_Data (BIRD_ID, Average_Age, RTL_CHANGE, RATE_OF_CHANGE) VALUES(%s,%s,%s,%s);\"\"\")\r\n",
                                        "\r\n",
                                        "# # Iterate through DF and execute commands to add data to table\r\n",
                                        "# for i, row in changeRate_df.iterrows():\r\n",
                                        "#    row_to_insert = (row[\"Bird_ID\"], row[\"Average_Age\"], row[\"RTL_Change\"], row[\"Rate_Of_Change\"])\r\n",
                                        "#    cursor.execute(insert_into_table, row_to_insert)\r\n",
                                        "\r\n",
                                        "# #Commit your changes in the database\r\n",
                                        "# conn.commit()\r\n",
                                        "\r\n",
                                        "# #Closing the connection\r\n",
                                        "# conn.close()"
                              ],
                              "outputs": [],
                              "metadata": {}
                    }
          ],
          "metadata": {
                    "interpreter": {
                              "hash": "05e23c36e91c7ff3406bf94bef558952bde2381251ee5fed90991576b18c9da5"
                    },
                    "kernelspec": {
                              "name": "python3",
                              "display_name": "Python 3.7.10 64-bit ('mlenv': conda)"
                    },
                    "language_info": {
                              "name": "python",
                              "version": "3.7.10",
                              "mimetype": "text/x-python",
                              "codemirror_mode": {
                                        "name": "ipython",
                                        "version": 3
                              },
                              "pygments_lexer": "ipython3",
                              "nbconvert_exporter": "python",
                              "file_extension": ".py"
                    }
          },
          "nbformat": 4,
          "nbformat_minor": 2
}