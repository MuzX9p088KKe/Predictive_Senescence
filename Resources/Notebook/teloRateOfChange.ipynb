{
 "cells": [
  {
   "cell_type": "code",
   "execution_count": 221,
   "source": [
    "import pandas as pd\r\n",
    "from pathlib import Path\r\n",
    "import matplotlib.pyplot as plt\r\n",
    "from sklearn.linear_model import LinearRegression\r\n",
    "from sklearn.preprocessing import StandardScaler, MinMaxScaler, LabelEncoder\r\n",
    "from sklearn.decomposition import PCA\r\n",
    "from sklearn.cluster import KMeans\r\n",
    "from sklearn import preprocessing\r\n",
    "import numpy as np\r\n",
    "import hvplot.pandas\r\n",
    "import config;\r\n",
    "from config import db_pw;\r\n",
    "import psycopg2;"
   ],
   "outputs": [],
   "metadata": {}
  },
  {
   "cell_type": "code",
   "execution_count": 222,
   "source": [
    "#establishing the connection\r\n",
    "conn = psycopg2.connect(\r\n",
    "   database=\"Predictive_Senescence_DB\", user='postgres', password= db_pw, host='predictive-senescence-db.cbunnafql9ym.us-east-2.rds.amazonaws.com', port= '5432'\r\n",
    ")\r\n",
    "\r\n",
    "#Setting auto commit false\r\n",
    "conn.autocommit = True\r\n",
    "\r\n",
    "#Creating a cursor object using the cursor() method\r\n",
    "cursor = conn.cursor()\r\n",
    "\r\n",
    "#Retrieving data\r\n",
    "cursor.execute('''SELECT * from birds_data_raw''')\r\n",
    "\r\n",
    "#Fetching 1st row from the table\r\n",
    "bird_df = pd.DataFrame(cursor.fetchall(), columns=[\"Collection_Num\", \"Bird_ID\", \"Sex\", \"Agey\", \"AgeClass\", \"BirthFPID\", \"U_PlateID\", \"RTL\", \"Technician\", \"Terr\", \"FPID\", \"Mum\", \"Dad\", \"Mac\", \"Pac\", \"BRF\", \"BRM\"]);\r\n",
    "print(bird_df)\r\n",
    "\r\n",
    "#Commit your changes in the database\r\n",
    "conn.commit()\r\n",
    "\r\n",
    "#Closing the connection\r\n",
    "conn.close()"
   ],
   "outputs": [
    {
     "output_type": "stream",
     "name": "stdout",
     "text": [
      "      Collection_Num  Bird_ID  Sex       Agey AgeClass  BirthFPID U_PlateID  \\\n",
      "0                  1     5511    0   0.246575        J        103       9_3   \n",
      "1                  2     5559    1   3.597260        A        103       9_1   \n",
      "2                  3     5559    1   4.715068        A        103      9_28   \n",
      "3                  4     5559    1   0.657534       SA        103       9_2   \n",
      "4                  5     5527    1   0.328767      OFL        103       9_3   \n",
      "...              ...      ...  ...        ...      ...        ...       ...   \n",
      "2657            2658      221    1   6.958904        A          8       2_1   \n",
      "2658            2659      216    1   8.947945        A          8       8_8   \n",
      "2659            2660      176    1   6.772603        A          8      7_32   \n",
      "2660            2661      221    1   9.090411        A          8      1_12   \n",
      "2661            2662      176    1  13.873973        A          8       4_3   \n",
      "\n",
      "       RTL  Technician   Terr  FPID   Mum   Dad       Mac       Pac   BRF  \\\n",
      "0     1.06           1   10.0   104  4863  1762  3.920548  7.443836  4863   \n",
      "1     0.52           1   77.1   122  1716  1877  7.416438  6.235616  1716   \n",
      "2     1.07           1   77.1   125  1716  1877  7.416438  6.235616  1716   \n",
      "3     0.99           1  111.0   104  1716  1877  7.416438  6.235616  1716   \n",
      "4     1.02           1  131.0   104  4936  1710  3.452055  7.778082  1707   \n",
      "...    ...         ...    ...   ...   ...   ...       ...       ...   ...   \n",
      "2657  1.99           2   32.0    19     0     0  0.000000  0.000000     0   \n",
      "2658  1.18           1   37.0    22     0     0  0.000000  0.000000     0   \n",
      "2659  0.93           1   46.0    19     0     0  0.000000  0.000000     0   \n",
      "2660  0.90           2   32.0    22     0     0  0.000000  0.000000     0   \n",
      "2661  0.72           2   46.0    41     0     0  0.000000  0.000000     0   \n",
      "\n",
      "       BRM  \n",
      "0     1762  \n",
      "1     4892  \n",
      "2     4892  \n",
      "3     4892  \n",
      "4     1710  \n",
      "...    ...  \n",
      "2657     0  \n",
      "2658     0  \n",
      "2659     0  \n",
      "2660     0  \n",
      "2661     0  \n",
      "\n",
      "[2662 rows x 17 columns]\n"
     ]
    }
   ],
   "metadata": {}
  },
  {
   "cell_type": "code",
   "execution_count": 223,
   "source": [
    "max(bird_df[\"Agey\"])"
   ],
   "outputs": [
    {
     "output_type": "execute_result",
     "data": {
      "text/plain": [
       "16.9369863"
      ]
     },
     "metadata": {},
     "execution_count": 223
    }
   ],
   "metadata": {}
  },
  {
   "cell_type": "code",
   "execution_count": 203,
   "source": [
    "#Make a list to hold unique ID's found in bird_df\r\n",
    "passover_list = [0,1]\r\n",
    "\r\n",
    "#Make a DF to hold the overall change in Age and RTL for each bird\r\n",
    "changeRate_df = pd.DataFrame(columns=[\"Bird_ID\", \"Age_Change\", \"RTL_Change\", \"Rate_Of_Change\"])\r\n",
    "\r\n",
    "#Iterate once for each row in the bird_df\r\n",
    "for i in range(len(bird_df[\"Bird_ID\"])):\r\n",
    "    #If the Bird_ID in this row is not in our passover list (already processed), continue\r\n",
    "    if(bird_df.loc[i,\"Bird_ID\"] not in passover_list):\r\n",
    "\r\n",
    "        #Initialize indexer for next row(s) and make a DF to hold all duplicate ID's, their ages and RTL values\r\n",
    "        k = i+1\r\n",
    "        holder_df = pd.DataFrame({\"ID\": [bird_df.loc[i,\"Bird_ID\"]], \"Age\": [bird_df.loc[i, \"Agey\"]], \"RTL\": [bird_df.loc[i,\"RTL\"]]})\r\n",
    "\r\n",
    "        #Loop through all rows with matching ID's\r\n",
    "        while(bird_df.loc[k,\"Bird_ID\"] == bird_df.loc[i,\"Bird_ID\"]):\r\n",
    "            #Place matching rows data into holder_DF and incriment indexer\r\n",
    "            holder_df = holder_df.append({\"ID\": bird_df.loc[k,\"Bird_ID\"], \"Age\": bird_df.loc[k, \"Agey\"], \"RTL\": bird_df.loc[k,\"RTL\"]}, ignore_index=True)\r\n",
    "            k = k+1\r\n",
    "        #We are only interested in birds with multiple collections -- this is to identify rate of change in telomere\r\n",
    "        if(len(holder_df) > 1):\r\n",
    "            max_age = 0\r\n",
    "            min_age = 0\r\n",
    "            final_rtl = 0\r\n",
    "            first_rtl = 0\r\n",
    "            for row in holder_df.iterrows():\r\n",
    "                id = row[1].ID\r\n",
    "                if(row[1].Age == max(holder_df[\"Age\"])):\r\n",
    "                    max_age = row[1].Age\r\n",
    "                    final_rtl = row[1].RTL\r\n",
    "                    high_ratio = row[1].Age / row[1].RTL\r\n",
    "                elif(row[1].Age == min(holder_df[\"Age\"])):\r\n",
    "                    min_age = row[1].Age\r\n",
    "                    first_rtl = row[1].RTL\r\n",
    "                    low_ratio = row[1].Age / row[1].RTL\r\n",
    "            age_change = max_age - min_age\r\n",
    "            rtl_change = final_rtl - first_rtl\r\n",
    "            change_rate = high_ratio - low_ratio\r\n",
    "            # change_rate = rtl_change/age_change\r\n",
    "            changeRate_df = changeRate_df.append({\"Bird_ID\": id, \"Age_Change\": age_change, \"RTL_Change\": rtl_change, \"Rate_Of_Change\": change_rate}, ignore_index=True)\r\n",
    "        # else:\r\n",
    "        #     changeRate_df = changeRate_df.append({\"Bird_ID\": holder_df.loc[0,\"ID\"], \"Age_Change\": holder_df.loc[0, \"Age\"], \"RTL_Change\": holder_df.loc[0,\"RTL\"]}, ignore_index=True)\r\n",
    "        passover_list.append(bird_df.loc[i,\"Bird_ID\"])\r\n",
    "\r\n",
    "changeRate_df.head(10)"
   ],
   "outputs": [
    {
     "output_type": "execute_result",
     "data": {
      "text/html": [
       "<div>\n",
       "<style scoped>\n",
       "    .dataframe tbody tr th:only-of-type {\n",
       "        vertical-align: middle;\n",
       "    }\n",
       "\n",
       "    .dataframe tbody tr th {\n",
       "        vertical-align: top;\n",
       "    }\n",
       "\n",
       "    .dataframe thead th {\n",
       "        text-align: right;\n",
       "    }\n",
       "</style>\n",
       "<table border=\"1\" class=\"dataframe\">\n",
       "  <thead>\n",
       "    <tr style=\"text-align: right;\">\n",
       "      <th></th>\n",
       "      <th>Bird_ID</th>\n",
       "      <th>Age_Change</th>\n",
       "      <th>RTL_Change</th>\n",
       "      <th>Rate_Of_Change</th>\n",
       "    </tr>\n",
       "  </thead>\n",
       "  <tbody>\n",
       "    <tr>\n",
       "      <th>0</th>\n",
       "      <td>5559.0</td>\n",
       "      <td>4.057534</td>\n",
       "      <td>0.08</td>\n",
       "      <td>3.742430</td>\n",
       "    </tr>\n",
       "    <tr>\n",
       "      <th>1</th>\n",
       "      <td>5539.0</td>\n",
       "      <td>1.306849</td>\n",
       "      <td>-0.25</td>\n",
       "      <td>4.378696</td>\n",
       "    </tr>\n",
       "    <tr>\n",
       "      <th>2</th>\n",
       "      <td>5536.0</td>\n",
       "      <td>3.920548</td>\n",
       "      <td>0.49</td>\n",
       "      <td>3.726865</td>\n",
       "    </tr>\n",
       "    <tr>\n",
       "      <th>3</th>\n",
       "      <td>5549.0</td>\n",
       "      <td>1.931507</td>\n",
       "      <td>0.12</td>\n",
       "      <td>3.506638</td>\n",
       "    </tr>\n",
       "    <tr>\n",
       "      <th>4</th>\n",
       "      <td>5509.0</td>\n",
       "      <td>0.986301</td>\n",
       "      <td>0.02</td>\n",
       "      <td>1.164622</td>\n",
       "    </tr>\n",
       "    <tr>\n",
       "      <th>5</th>\n",
       "      <td>5573.0</td>\n",
       "      <td>1.019178</td>\n",
       "      <td>0.29</td>\n",
       "      <td>0.739316</td>\n",
       "    </tr>\n",
       "    <tr>\n",
       "      <th>6</th>\n",
       "      <td>5534.0</td>\n",
       "      <td>1.142466</td>\n",
       "      <td>0.41</td>\n",
       "      <td>0.710567</td>\n",
       "    </tr>\n",
       "    <tr>\n",
       "      <th>7</th>\n",
       "      <td>5553.0</td>\n",
       "      <td>1.309589</td>\n",
       "      <td>0.42</td>\n",
       "      <td>1.145793</td>\n",
       "    </tr>\n",
       "    <tr>\n",
       "      <th>8</th>\n",
       "      <td>5652.0</td>\n",
       "      <td>0.427397</td>\n",
       "      <td>-0.22</td>\n",
       "      <td>1.048654</td>\n",
       "    </tr>\n",
       "    <tr>\n",
       "      <th>9</th>\n",
       "      <td>5547.0</td>\n",
       "      <td>3.432877</td>\n",
       "      <td>0.18</td>\n",
       "      <td>3.232219</td>\n",
       "    </tr>\n",
       "  </tbody>\n",
       "</table>\n",
       "</div>"
      ],
      "text/plain": [
       "   Bird_ID  Age_Change  RTL_Change  Rate_Of_Change\n",
       "0   5559.0    4.057534        0.08        3.742430\n",
       "1   5539.0    1.306849       -0.25        4.378696\n",
       "2   5536.0    3.920548        0.49        3.726865\n",
       "3   5549.0    1.931507        0.12        3.506638\n",
       "4   5509.0    0.986301        0.02        1.164622\n",
       "5   5573.0    1.019178        0.29        0.739316\n",
       "6   5534.0    1.142466        0.41        0.710567\n",
       "7   5553.0    1.309589        0.42        1.145793\n",
       "8   5652.0    0.427397       -0.22        1.048654\n",
       "9   5547.0    3.432877        0.18        3.232219"
      ]
     },
     "metadata": {},
     "execution_count": 203
    }
   ],
   "metadata": {}
  },
  {
   "cell_type": "code",
   "execution_count": 204,
   "source": [
    "changeRate_df[\"Rate_Of_Change\"].corr(changeRate_df[\"Age_Change\"])"
   ],
   "outputs": [
    {
     "output_type": "execute_result",
     "data": {
      "text/plain": [
       "0.6680730414244922"
      ]
     },
     "metadata": {},
     "execution_count": 204
    }
   ],
   "metadata": {}
  },
  {
   "cell_type": "code",
   "execution_count": 205,
   "source": [
    "changeRate_df.count()"
   ],
   "outputs": [
    {
     "output_type": "execute_result",
     "data": {
      "text/plain": [
       "Bird_ID           561\n",
       "Age_Change        561\n",
       "RTL_Change        561\n",
       "Rate_Of_Change    561\n",
       "dtype: int64"
      ]
     },
     "metadata": {},
     "execution_count": 205
    }
   ],
   "metadata": {}
  },
  {
   "cell_type": "code",
   "execution_count": 206,
   "source": [
    "changeRate_df = changeRate_df.loc[changeRate_df[\"Rate_Of_Change\"] > -5]"
   ],
   "outputs": [],
   "metadata": {}
  },
  {
   "cell_type": "code",
   "execution_count": 207,
   "source": [
    "changeRate_df = changeRate_df.loc[changeRate_df[\"Rate_Of_Change\"] < 13.5]"
   ],
   "outputs": [],
   "metadata": {}
  },
  {
   "cell_type": "code",
   "execution_count": 208,
   "source": [
    "changeRate_df"
   ],
   "outputs": [
    {
     "output_type": "execute_result",
     "data": {
      "text/html": [
       "<div>\n",
       "<style scoped>\n",
       "    .dataframe tbody tr th:only-of-type {\n",
       "        vertical-align: middle;\n",
       "    }\n",
       "\n",
       "    .dataframe tbody tr th {\n",
       "        vertical-align: top;\n",
       "    }\n",
       "\n",
       "    .dataframe thead th {\n",
       "        text-align: right;\n",
       "    }\n",
       "</style>\n",
       "<table border=\"1\" class=\"dataframe\">\n",
       "  <thead>\n",
       "    <tr style=\"text-align: right;\">\n",
       "      <th></th>\n",
       "      <th>Bird_ID</th>\n",
       "      <th>Age_Change</th>\n",
       "      <th>RTL_Change</th>\n",
       "      <th>Rate_Of_Change</th>\n",
       "    </tr>\n",
       "  </thead>\n",
       "  <tbody>\n",
       "    <tr>\n",
       "      <th>0</th>\n",
       "      <td>5559.0</td>\n",
       "      <td>4.057534</td>\n",
       "      <td>0.08</td>\n",
       "      <td>3.742430</td>\n",
       "    </tr>\n",
       "    <tr>\n",
       "      <th>1</th>\n",
       "      <td>5539.0</td>\n",
       "      <td>1.306849</td>\n",
       "      <td>-0.25</td>\n",
       "      <td>4.378696</td>\n",
       "    </tr>\n",
       "    <tr>\n",
       "      <th>2</th>\n",
       "      <td>5536.0</td>\n",
       "      <td>3.920548</td>\n",
       "      <td>0.49</td>\n",
       "      <td>3.726865</td>\n",
       "    </tr>\n",
       "    <tr>\n",
       "      <th>3</th>\n",
       "      <td>5549.0</td>\n",
       "      <td>1.931507</td>\n",
       "      <td>0.12</td>\n",
       "      <td>3.506638</td>\n",
       "    </tr>\n",
       "    <tr>\n",
       "      <th>4</th>\n",
       "      <td>5509.0</td>\n",
       "      <td>0.986301</td>\n",
       "      <td>0.02</td>\n",
       "      <td>1.164622</td>\n",
       "    </tr>\n",
       "    <tr>\n",
       "      <th>...</th>\n",
       "      <td>...</td>\n",
       "      <td>...</td>\n",
       "      <td>...</td>\n",
       "      <td>...</td>\n",
       "    </tr>\n",
       "    <tr>\n",
       "      <th>556</th>\n",
       "      <td>5465.0</td>\n",
       "      <td>1.887671</td>\n",
       "      <td>-1.64</td>\n",
       "      <td>2.846451</td>\n",
       "    </tr>\n",
       "    <tr>\n",
       "      <th>557</th>\n",
       "      <td>5313.0</td>\n",
       "      <td>2.484932</td>\n",
       "      <td>0.04</td>\n",
       "      <td>3.400752</td>\n",
       "    </tr>\n",
       "    <tr>\n",
       "      <th>558</th>\n",
       "      <td>5529.0</td>\n",
       "      <td>1.961644</td>\n",
       "      <td>0.14</td>\n",
       "      <td>1.600231</td>\n",
       "    </tr>\n",
       "    <tr>\n",
       "      <th>559</th>\n",
       "      <td>5531.0</td>\n",
       "      <td>1.378082</td>\n",
       "      <td>0.03</td>\n",
       "      <td>1.542952</td>\n",
       "    </tr>\n",
       "    <tr>\n",
       "      <th>560</th>\n",
       "      <td>5498.0</td>\n",
       "      <td>4.435616</td>\n",
       "      <td>0.29</td>\n",
       "      <td>3.857809</td>\n",
       "    </tr>\n",
       "  </tbody>\n",
       "</table>\n",
       "<p>518 rows × 4 columns</p>\n",
       "</div>"
      ],
      "text/plain": [
       "     Bird_ID  Age_Change  RTL_Change  Rate_Of_Change\n",
       "0     5559.0    4.057534        0.08        3.742430\n",
       "1     5539.0    1.306849       -0.25        4.378696\n",
       "2     5536.0    3.920548        0.49        3.726865\n",
       "3     5549.0    1.931507        0.12        3.506638\n",
       "4     5509.0    0.986301        0.02        1.164622\n",
       "..       ...         ...         ...             ...\n",
       "556   5465.0    1.887671       -1.64        2.846451\n",
       "557   5313.0    2.484932        0.04        3.400752\n",
       "558   5529.0    1.961644        0.14        1.600231\n",
       "559   5531.0    1.378082        0.03        1.542952\n",
       "560   5498.0    4.435616        0.29        3.857809\n",
       "\n",
       "[518 rows x 4 columns]"
      ]
     },
     "metadata": {},
     "execution_count": 208
    }
   ],
   "metadata": {}
  },
  {
   "cell_type": "code",
   "execution_count": 209,
   "source": [
    "changeRate_df.boxplot(\"Rate_Of_Change\")"
   ],
   "outputs": [
    {
     "output_type": "execute_result",
     "data": {
      "text/plain": [
       "<AxesSubplot:>"
      ]
     },
     "metadata": {},
     "execution_count": 209
    },
    {
     "output_type": "display_data",
     "data": {
      "image/png": "[encoded data removed]",
      "text/plain": [
       "<Figure size 432x288 with 1 Axes>"
      ]
     },
     "metadata": {
      "needs_background": "light"
     }
    }
   ],
   "metadata": {}
  },
  {
   "cell_type": "code",
   "execution_count": 210,
   "source": [
    "changeRate_df.plot.scatter(x='Rate_Of_Change', y='Age_Change', color='Black')"
   ],
   "outputs": [
    {
     "output_type": "execute_result",
     "data": {
      "text/plain": [
       "<AxesSubplot:xlabel='Rate_Of_Change', ylabel='Age_Change'>"
      ]
     },
     "metadata": {},
     "execution_count": 210
    },
    {
     "output_type": "display_data",
     "data": {
      "image/png": "[encoded data removed]",
      "text/plain": [
       "<Figure size 432x288 with 1 Axes>"
      ]
     },
     "metadata": {
      "needs_background": "light"
     }
    }
   ],
   "metadata": {}
  },
  {
   "cell_type": "code",
   "execution_count": 211,
   "source": [
    "changeRate_df[\"Age_Change\"].corr(changeRate_df[\"Rate_Of_Change\"])"
   ],
   "outputs": [
    {
     "output_type": "execute_result",
     "data": {
      "text/plain": [
       "0.8100562480494256"
      ]
     },
     "metadata": {},
     "execution_count": 211
    }
   ],
   "metadata": {}
  },
  {
   "cell_type": "code",
   "execution_count": 212,
   "source": [
    "x = changeRate_df.values #returns a numpy array\r\n",
    "min_max_scaler = preprocessing.MinMaxScaler()\r\n",
    "x_scaled = min_max_scaler.fit_transform(x)\r\n",
    "df = pd.DataFrame(x_scaled, columns=changeRate_df.columns)"
   ],
   "outputs": [],
   "metadata": {}
  },
  {
   "cell_type": "code",
   "execution_count": 213,
   "source": [
    "df.plot.scatter(x='RTL_Change', y='Age_Change', color='Red')"
   ],
   "outputs": [
    {
     "output_type": "execute_result",
     "data": {
      "text/plain": [
       "<AxesSubplot:xlabel='RTL_Change', ylabel='Age_Change'>"
      ]
     },
     "metadata": {},
     "execution_count": 213
    },
    {
     "output_type": "display_data",
     "data": {
      "image/png": "[encoded data removed]",
      "text/plain": [
       "<Figure size 432x288 with 1 Axes>"
      ]
     },
     "metadata": {
      "needs_background": "light"
     }
    }
   ],
   "metadata": {}
  },
  {
   "cell_type": "code",
   "execution_count": 214,
   "source": [
    "quad_df = changeRate_df.copy()\r\n",
    "quad_df[\"RTL_Change\"] = changeRate_df[\"RTL_Change\"] * changeRate_df[\"RTL_Change\"]\r\n",
    "quad_df.plot.scatter(x='RTL_Change', y='Age_Change', color='Blue')"
   ],
   "outputs": [
    {
     "output_type": "execute_result",
     "data": {
      "text/plain": [
       "<AxesSubplot:xlabel='RTL_Change', ylabel='Age_Change'>"
      ]
     },
     "metadata": {},
     "execution_count": 214
    },
    {
     "output_type": "display_data",
     "data": {
      "image/png": "[encoded data removed]",
      "text/plain": [
       "<Figure size 432x288 with 1 Axes>"
      ]
     },
     "metadata": {
      "needs_background": "light"
     }
    }
   ],
   "metadata": {}
  },
  {
   "cell_type": "code",
   "execution_count": 215,
   "source": [
    "quad_df[\"RTL_Change\"].corr(quad_df[\"Age_Change\"])"
   ],
   "outputs": [
    {
     "output_type": "execute_result",
     "data": {
      "text/plain": [
       "0.029681902886933332"
      ]
     },
     "metadata": {},
     "execution_count": 215
    }
   ],
   "metadata": {}
  },
  {
   "cell_type": "code",
   "execution_count": 216,
   "source": [
    "log_df = changeRate_df.copy()"
   ],
   "outputs": [],
   "metadata": {}
  },
  {
   "cell_type": "code",
   "execution_count": 217,
   "source": [
    "log_df[\"RTL_Change\"] = np.log(changeRate_df[\"RTL_Change\"] + 5)"
   ],
   "outputs": [],
   "metadata": {}
  },
  {
   "cell_type": "code",
   "execution_count": 218,
   "source": [
    "log_df.plot.scatter(x='RTL_Change', y='Age_Change', color='Orange')"
   ],
   "outputs": [
    {
     "output_type": "execute_result",
     "data": {
      "text/plain": [
       "<AxesSubplot:xlabel='RTL_Change', ylabel='Age_Change'>"
      ]
     },
     "metadata": {},
     "execution_count": 218
    },
    {
     "output_type": "display_data",
     "data": {
      "image/png": "[encoded data removed]",
      "text/plain": [
       "<Figure size 432x288 with 1 Axes>"
      ]
     },
     "metadata": {
      "needs_background": "light"
     }
    }
   ],
   "metadata": {}
  },
  {
   "cell_type": "code",
   "execution_count": 219,
   "source": [
    "log_df[\"RTL_Change\"].corr(log_df[\"Age_Change\"])"
   ],
   "outputs": [
    {
     "output_type": "execute_result",
     "data": {
      "text/plain": [
       "-0.06947434358578508"
      ]
     },
     "metadata": {},
     "execution_count": 219
    }
   ],
   "metadata": {}
  },
  {
   "cell_type": "code",
   "execution_count": 220,
   "source": [
    "log_age_df = changeRate_df.copy()\r\n",
    "log_age_df[\"Age_Change\"] = np.log(changeRate_df[\"Age_Change\"])\r\n",
    "log_age_df.plot.scatter(x='RTL_Change', y='Age_Change', color='Purple')"
   ],
   "outputs": [
    {
     "output_type": "execute_result",
     "data": {
      "text/plain": [
       "<AxesSubplot:xlabel='RTL_Change', ylabel='Age_Change'>"
      ]
     },
     "metadata": {},
     "execution_count": 220
    },
    {
     "output_type": "display_data",
     "data": {
      "image/png": "[encoded data removed]",
      "text/plain": [
       "<Figure size 432x288 with 1 Axes>"
      ]
     },
     "metadata": {
      "needs_background": "light"
     }
    }
   ],
   "metadata": {}
  }
 ],
 "metadata": {
  "orig_nbformat": 4,
  "language_info": {
   "name": "python",
   "version": "3.7.10",
   "mimetype": "text/x-python",
   "codemirror_mode": {
    "name": "ipython",
    "version": 3
   },
   "pygments_lexer": "ipython3",
   "nbconvert_exporter": "python",
   "file_extension": ".py"
  },
  "kernelspec": {
   "name": "python3",
   "display_name": "Python 3.7.10 64-bit ('mlenv': conda)"
  },
  "interpreter": {
   "hash": "05e23c36e91c7ff3406bf94bef558952bde2381251ee5fed90991576b18c9da5"
  }
 },
 "nbformat": 4,
 "nbformat_minor": 2
}