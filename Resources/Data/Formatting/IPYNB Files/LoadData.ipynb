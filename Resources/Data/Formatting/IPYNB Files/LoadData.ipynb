{
 "cells": [
  {
   "cell_type": "code",
   "execution_count": 18,
   "source": [
    "import pandas as pd;\r\n",
    "import config;\r\n",
    "from config import db_pw;\r\n",
    "import psycopg2;\r\n",
    "\r\n",
    "#establishing the connection\r\n",
    "conn = psycopg2.connect(\r\n",
    "   database=\"Senescence_DB\", user='postgres', password= db_pw, host='127.0.0.1', port= '5432'\r\n",
    ")\r\n",
    "\r\n",
    "#Setting auto commit false\r\n",
    "conn.autocommit = True\r\n",
    "\r\n",
    "#Creating a cursor object using the cursor() method\r\n",
    "cursor = conn.cursor()\r\n",
    "\r\n",
    "#Retrieving data\r\n",
    "cursor.execute('''SELECT * from human_age_vs_telo''')\r\n",
    "\r\n",
    "#Fetching 1st row from the table\r\n",
    "result_df = pd.DataFrame(cursor.fetchall(), columns=[\"ID\", \"Age\", \"RTL\"]);\r\n",
    "print(result_df)\r\n",
    "\r\n",
    "#Commit your changes in the database\r\n",
    "conn.commit()\r\n",
    "\r\n",
    "#Closing the connection\r\n",
    "conn.close()"
   ],
   "outputs": [
    {
     "output_type": "error",
     "ename": "ImportError",
     "evalue": "cannot import name 'db_pw' from 'config' (c:\\BootCamp\\@Classwork\\Final Project\\Predictive_Senescence\\Resources\\Data\\zFormatting\\config.py)",
     "traceback": [
      "\u001b[1;31m---------------------------------------------------------------------------\u001b[0m",
      "\u001b[1;31mImportError\u001b[0m                               Traceback (most recent call last)",
      "\u001b[1;32m<ipython-input-18-4e80e98fed6a>\u001b[0m in \u001b[0;36m<module>\u001b[1;34m\u001b[0m\n\u001b[0;32m      1\u001b[0m \u001b[1;32mimport\u001b[0m \u001b[0mpandas\u001b[0m \u001b[1;32mas\u001b[0m \u001b[0mpd\u001b[0m\u001b[1;33m;\u001b[0m\u001b[1;33m\u001b[0m\u001b[1;33m\u001b[0m\u001b[0m\n\u001b[0;32m      2\u001b[0m \u001b[1;32mimport\u001b[0m \u001b[0mconfig\u001b[0m\u001b[1;33m;\u001b[0m\u001b[1;33m\u001b[0m\u001b[1;33m\u001b[0m\u001b[0m\n\u001b[1;32m----> 3\u001b[1;33m \u001b[1;32mfrom\u001b[0m \u001b[0mconfig\u001b[0m \u001b[1;32mimport\u001b[0m \u001b[0mdb_pw\u001b[0m\u001b[1;33m;\u001b[0m\u001b[1;33m\u001b[0m\u001b[1;33m\u001b[0m\u001b[0m\n\u001b[0m\u001b[0;32m      4\u001b[0m \u001b[1;32mimport\u001b[0m \u001b[0mpsycopg2\u001b[0m\u001b[1;33m;\u001b[0m\u001b[1;33m\u001b[0m\u001b[1;33m\u001b[0m\u001b[0m\n\u001b[0;32m      5\u001b[0m \u001b[1;33m\u001b[0m\u001b[0m\n",
      "\u001b[1;31mImportError\u001b[0m: cannot import name 'db_pw' from 'config' (c:\\BootCamp\\@Classwork\\Final Project\\Predictive_Senescence\\Resources\\Data\\zFormatting\\config.py)"
     ]
    }
   ],
   "metadata": {}
  }
 ],
 "metadata": {
  "orig_nbformat": 4,
  "language_info": {
   "name": "python",
   "version": "3.7.9",
   "mimetype": "text/x-python",
   "codemirror_mode": {
    "name": "ipython",
    "version": 3
   },
   "pygments_lexer": "ipython3",
   "nbconvert_exporter": "python",
   "file_extension": ".py"
  },
  "kernelspec": {
   "name": "python3",
   "display_name": "Python 3.7.9 64-bit ('PythonData': conda)"
  },
  "interpreter": {
   "hash": "585c470903d1834c7ba5b636aad97e0ee93e40876a41afb735039c0bde923f4d"
  }
 },
 "nbformat": 4,
 "nbformat_minor": 2
}